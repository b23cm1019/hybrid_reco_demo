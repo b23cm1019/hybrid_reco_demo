{
 "cells": [
  {
   "cell_type": "code",
   "execution_count": 1,
   "id": "ccb17558-010e-42cd-8bb3-17bec0626182",
   "metadata": {},
   "outputs": [],
   "source": [
    "import numpy as np\n",
    "import pandas as pd"
   ]
  },
  {
   "cell_type": "code",
   "execution_count": 2,
   "id": "4664e5d1-c467-4f7e-9bab-90e23a431898",
   "metadata": {},
   "outputs": [
    {
     "data": {
      "text/html": [
       "<div>\n",
       "<style scoped>\n",
       "    .dataframe tbody tr th:only-of-type {\n",
       "        vertical-align: middle;\n",
       "    }\n",
       "\n",
       "    .dataframe tbody tr th {\n",
       "        vertical-align: top;\n",
       "    }\n",
       "\n",
       "    .dataframe thead th {\n",
       "        text-align: right;\n",
       "    }\n",
       "</style>\n",
       "<table border=\"1\" class=\"dataframe\">\n",
       "  <thead>\n",
       "    <tr style=\"text-align: right;\">\n",
       "      <th></th>\n",
       "      <th>InvoiceNo</th>\n",
       "      <th>StockCode</th>\n",
       "      <th>Description</th>\n",
       "      <th>Quantity</th>\n",
       "      <th>InvoiceDate</th>\n",
       "      <th>UnitPrice</th>\n",
       "      <th>CustomerID</th>\n",
       "      <th>Country</th>\n",
       "    </tr>\n",
       "  </thead>\n",
       "  <tbody>\n",
       "    <tr>\n",
       "      <th>0</th>\n",
       "      <td>536365</td>\n",
       "      <td>85123A</td>\n",
       "      <td>WHITE HANGING HEART T-LIGHT HOLDER</td>\n",
       "      <td>6</td>\n",
       "      <td>2010-12-01 08:26:00</td>\n",
       "      <td>2.55</td>\n",
       "      <td>17850.0</td>\n",
       "      <td>United Kingdom</td>\n",
       "    </tr>\n",
       "    <tr>\n",
       "      <th>1</th>\n",
       "      <td>536365</td>\n",
       "      <td>71053</td>\n",
       "      <td>WHITE METAL LANTERN</td>\n",
       "      <td>6</td>\n",
       "      <td>2010-12-01 08:26:00</td>\n",
       "      <td>3.39</td>\n",
       "      <td>17850.0</td>\n",
       "      <td>United Kingdom</td>\n",
       "    </tr>\n",
       "    <tr>\n",
       "      <th>2</th>\n",
       "      <td>536365</td>\n",
       "      <td>84406B</td>\n",
       "      <td>CREAM CUPID HEARTS COAT HANGER</td>\n",
       "      <td>8</td>\n",
       "      <td>2010-12-01 08:26:00</td>\n",
       "      <td>2.75</td>\n",
       "      <td>17850.0</td>\n",
       "      <td>United Kingdom</td>\n",
       "    </tr>\n",
       "    <tr>\n",
       "      <th>3</th>\n",
       "      <td>536365</td>\n",
       "      <td>84029G</td>\n",
       "      <td>KNITTED UNION FLAG HOT WATER BOTTLE</td>\n",
       "      <td>6</td>\n",
       "      <td>2010-12-01 08:26:00</td>\n",
       "      <td>3.39</td>\n",
       "      <td>17850.0</td>\n",
       "      <td>United Kingdom</td>\n",
       "    </tr>\n",
       "    <tr>\n",
       "      <th>4</th>\n",
       "      <td>536365</td>\n",
       "      <td>84029E</td>\n",
       "      <td>RED WOOLLY HOTTIE WHITE HEART.</td>\n",
       "      <td>6</td>\n",
       "      <td>2010-12-01 08:26:00</td>\n",
       "      <td>3.39</td>\n",
       "      <td>17850.0</td>\n",
       "      <td>United Kingdom</td>\n",
       "    </tr>\n",
       "  </tbody>\n",
       "</table>\n",
       "</div>"
      ],
      "text/plain": [
       "  InvoiceNo StockCode                          Description  Quantity  \\\n",
       "0    536365    85123A   WHITE HANGING HEART T-LIGHT HOLDER         6   \n",
       "1    536365     71053                  WHITE METAL LANTERN         6   \n",
       "2    536365    84406B       CREAM CUPID HEARTS COAT HANGER         8   \n",
       "3    536365    84029G  KNITTED UNION FLAG HOT WATER BOTTLE         6   \n",
       "4    536365    84029E       RED WOOLLY HOTTIE WHITE HEART.         6   \n",
       "\n",
       "          InvoiceDate  UnitPrice  CustomerID         Country  \n",
       "0 2010-12-01 08:26:00       2.55     17850.0  United Kingdom  \n",
       "1 2010-12-01 08:26:00       3.39     17850.0  United Kingdom  \n",
       "2 2010-12-01 08:26:00       2.75     17850.0  United Kingdom  \n",
       "3 2010-12-01 08:26:00       3.39     17850.0  United Kingdom  \n",
       "4 2010-12-01 08:26:00       3.39     17850.0  United Kingdom  "
      ]
     },
     "execution_count": 2,
     "metadata": {},
     "output_type": "execute_result"
    }
   ],
   "source": [
    "df=pd.read_excel('Online Retail.xlsx')\n",
    "df.head()"
   ]
  },
  {
   "cell_type": "code",
   "execution_count": 3,
   "id": "99a325c0-731a-4107-b6a2-7678e8e43acb",
   "metadata": {},
   "outputs": [
    {
     "data": {
      "text/plain": [
       "(541909, 8)"
      ]
     },
     "execution_count": 3,
     "metadata": {},
     "output_type": "execute_result"
    }
   ],
   "source": [
    "df.shape"
   ]
  },
  {
   "cell_type": "code",
   "execution_count": 4,
   "id": "459eea69-48f8-4847-999a-c1e0cc0e831d",
   "metadata": {},
   "outputs": [
    {
     "name": "stdout",
     "output_type": "stream",
     "text": [
      "<class 'pandas.core.frame.DataFrame'>\n",
      "RangeIndex: 541909 entries, 0 to 541908\n",
      "Data columns (total 8 columns):\n",
      " #   Column       Non-Null Count   Dtype         \n",
      "---  ------       --------------   -----         \n",
      " 0   InvoiceNo    541909 non-null  object        \n",
      " 1   StockCode    541909 non-null  object        \n",
      " 2   Description  540455 non-null  object        \n",
      " 3   Quantity     541909 non-null  int64         \n",
      " 4   InvoiceDate  541909 non-null  datetime64[ns]\n",
      " 5   UnitPrice    541909 non-null  float64       \n",
      " 6   CustomerID   406829 non-null  float64       \n",
      " 7   Country      541909 non-null  object        \n",
      "dtypes: datetime64[ns](1), float64(2), int64(1), object(4)\n",
      "memory usage: 33.1+ MB\n"
     ]
    }
   ],
   "source": [
    "df.info()"
   ]
  },
  {
   "cell_type": "code",
   "execution_count": 5,
   "id": "1951a392-84c9-4ec3-92cc-816dfded03a0",
   "metadata": {},
   "outputs": [
    {
     "data": {
      "text/plain": [
       "InvoiceNo       0.000000\n",
       "StockCode       0.000000\n",
       "Description     0.268311\n",
       "Quantity        0.000000\n",
       "InvoiceDate     0.000000\n",
       "UnitPrice       0.000000\n",
       "CustomerID     24.926694\n",
       "Country         0.000000\n",
       "dtype: float64"
      ]
     },
     "execution_count": 5,
     "metadata": {},
     "output_type": "execute_result"
    }
   ],
   "source": [
    "(df.isnull().sum()/df.shape[0])*100"
   ]
  },
  {
   "cell_type": "code",
   "execution_count": 6,
   "id": "7eb5284a-c7e1-4ce6-a101-1f246dbd1a6a",
   "metadata": {},
   "outputs": [
    {
     "data": {
      "text/plain": [
       "4372"
      ]
     },
     "execution_count": 6,
     "metadata": {},
     "output_type": "execute_result"
    }
   ],
   "source": [
    "df['CustomerID'].nunique()"
   ]
  },
  {
   "cell_type": "code",
   "execution_count": 7,
   "id": "b9f5f39e-62ae-4935-b26a-d058e5b6d5cf",
   "metadata": {},
   "outputs": [
    {
     "data": {
      "text/plain": [
       "25900"
      ]
     },
     "execution_count": 7,
     "metadata": {},
     "output_type": "execute_result"
    }
   ],
   "source": [
    "df['InvoiceNo'].nunique()"
   ]
  },
  {
   "cell_type": "code",
   "execution_count": 8,
   "id": "2fb6e8ae-b4b9-41de-b9b8-7e6814c98696",
   "metadata": {},
   "outputs": [
    {
     "data": {
      "text/plain": [
       "CustomerID\n",
       "17841.0    7983\n",
       "14911.0    5903\n",
       "14096.0    5128\n",
       "12748.0    4642\n",
       "14606.0    2782\n",
       "           ... \n",
       "17986.0       1\n",
       "13256.0       1\n",
       "18184.0       1\n",
       "13747.0       1\n",
       "15195.0       1\n",
       "Name: count, Length: 4372, dtype: int64"
      ]
     },
     "execution_count": 8,
     "metadata": {},
     "output_type": "execute_result"
    }
   ],
   "source": [
    "df['CustomerID'].value_counts()"
   ]
  },
  {
   "cell_type": "code",
   "execution_count": 9,
   "id": "1fc3838f-bd2d-4e77-8d5e-069c279fc576",
   "metadata": {},
   "outputs": [],
   "source": [
    "import seaborn as sns"
   ]
  },
  {
   "cell_type": "code",
   "execution_count": 10,
   "id": "e7bf0c35-72d8-4f0a-bd96-74caf8d0e483",
   "metadata": {},
   "outputs": [
    {
     "data": {
      "text/plain": [
       "<Axes: xlabel='CustomerID', ylabel='Count'>"
      ]
     },
     "execution_count": 10,
     "metadata": {},
     "output_type": "execute_result"
    },
    {
     "data": {
      "image/png": "[encoded data removed]",
      "text/plain": [
       "<Figure size 640x480 with 1 Axes>"
      ]
     },
     "metadata": {},
     "output_type": "display_data"
    }
   ],
   "source": [
    "sns.histplot(df['CustomerID'])"
   ]
  },
  {
   "cell_type": "code",
   "execution_count": 11,
   "id": "fddef7da-8c70-46ea-8380-b51801e7b1a2",
   "metadata": {},
   "outputs": [],
   "source": [
    "new_df=df.dropna()"
   ]
  },
  {
   "cell_type": "code",
   "execution_count": 12,
   "id": "ef904f2c-c0bc-47f2-be68-26129c4e5d3e",
   "metadata": {},
   "outputs": [
    {
     "name": "stdout",
     "output_type": "stream",
     "text": [
      "<class 'pandas.core.frame.DataFrame'>\n",
      "Index: 406829 entries, 0 to 541908\n",
      "Data columns (total 8 columns):\n",
      " #   Column       Non-Null Count   Dtype         \n",
      "---  ------       --------------   -----         \n",
      " 0   InvoiceNo    406829 non-null  object        \n",
      " 1   StockCode    406829 non-null  object        \n",
      " 2   Description  406829 non-null  object        \n",
      " 3   Quantity     406829 non-null  int64         \n",
      " 4   InvoiceDate  406829 non-null  datetime64[ns]\n",
      " 5   UnitPrice    406829 non-null  float64       \n",
      " 6   CustomerID   406829 non-null  float64       \n",
      " 7   Country      406829 non-null  object        \n",
      "dtypes: datetime64[ns](1), float64(2), int64(1), object(4)\n",
      "memory usage: 27.9+ MB\n"
     ]
    }
   ],
   "source": [
    "new_df.info()"
   ]
  },
  {
   "cell_type": "code",
   "execution_count": 13,
   "id": "6e93e320-5dde-43e0-81eb-5611d82491cc",
   "metadata": {},
   "outputs": [
    {
     "data": {
      "text/plain": [
       "3896"
      ]
     },
     "execution_count": 13,
     "metadata": {},
     "output_type": "execute_result"
    }
   ],
   "source": [
    "new_df['Description'].nunique()"
   ]
  },
  {
   "cell_type": "code",
   "execution_count": 14,
   "id": "e6a4a211-3639-4ca7-b27e-4a2a9a9a1914",
   "metadata": {},
   "outputs": [
    {
     "data": {
      "text/plain": [
       "3684"
      ]
     },
     "execution_count": 14,
     "metadata": {},
     "output_type": "execute_result"
    }
   ],
   "source": [
    "new_df['StockCode'].nunique()"
   ]
  },
  {
   "cell_type": "code",
   "execution_count": 15,
   "id": "313f25e3-1bd7-4f15-920c-ca25010fbe7c",
   "metadata": {},
   "outputs": [
    {
     "data": {
      "text/plain": [
       "620"
      ]
     },
     "execution_count": 15,
     "metadata": {},
     "output_type": "execute_result"
    }
   ],
   "source": [
    "new_df['UnitPrice'].nunique()"
   ]
  },
  {
   "cell_type": "code",
   "execution_count": 16,
   "id": "85822b85-ff06-445e-b596-1e3f5179c345",
   "metadata": {},
   "outputs": [
    {
     "data": {
      "text/plain": [
       "Country\n",
       "United Kingdom          88.950886\n",
       "Germany                  2.333904\n",
       "France                   2.087118\n",
       "EIRE                     1.839839\n",
       "Spain                    0.622620\n",
       "Netherlands              0.582800\n",
       "Belgium                  0.508567\n",
       "Switzerland              0.461373\n",
       "Portugal                 0.363789\n",
       "Australia                0.309467\n",
       "Norway                   0.266943\n",
       "Italy                    0.197380\n",
       "Channel Islands          0.186319\n",
       "Finland                  0.170833\n",
       "Cyprus                   0.152890\n",
       "Sweden                   0.113561\n",
       "Austria                  0.098567\n",
       "Denmark                  0.095618\n",
       "Japan                    0.087998\n",
       "Poland                   0.083819\n",
       "USA                      0.071529\n",
       "Israel                   0.061451\n",
       "Unspecified              0.059976\n",
       "Singapore                0.056289\n",
       "Iceland                  0.044736\n",
       "Canada                   0.037116\n",
       "Greece                   0.035887\n",
       "Malta                    0.031217\n",
       "United Arab Emirates     0.016715\n",
       "European Community       0.014994\n",
       "RSA                      0.014257\n",
       "Lebanon                  0.011061\n",
       "Lithuania                0.008603\n",
       "Brazil                   0.007866\n",
       "Czech Republic           0.007374\n",
       "Bahrain                  0.004179\n",
       "Saudi Arabia             0.002458\n",
       "Name: count, dtype: float64"
      ]
     },
     "execution_count": 16,
     "metadata": {},
     "output_type": "execute_result"
    }
   ],
   "source": [
    "(new_df['Country'].value_counts()/new_df.shape[0])*100"
   ]
  },
  {
   "cell_type": "code",
   "execution_count": 17,
   "id": "91d7aa04-f8ee-4fb1-a9df-328fede3c80d",
   "metadata": {},
   "outputs": [
    {
     "data": {
      "text/plain": [
       "22190"
      ]
     },
     "execution_count": 17,
     "metadata": {},
     "output_type": "execute_result"
    }
   ],
   "source": [
    "new_df['InvoiceNo'].nunique()"
   ]
  },
  {
   "cell_type": "code",
   "execution_count": 18,
   "id": "fda908d5-0616-4c75-a932-a7c32c0bc0c2",
   "metadata": {},
   "outputs": [
    {
     "data": {
      "text/plain": [
       "4372"
      ]
     },
     "execution_count": 18,
     "metadata": {},
     "output_type": "execute_result"
    }
   ],
   "source": [
    "new_df['CustomerID'].nunique()"
   ]
  },
  {
   "cell_type": "code",
   "execution_count": 19,
   "id": "ddb237aa-9ac3-4260-b9f8-5b65cb89ef79",
   "metadata": {},
   "outputs": [
    {
     "data": {
      "text/html": [
       "<div>\n",
       "<style scoped>\n",
       "    .dataframe tbody tr th:only-of-type {\n",
       "        vertical-align: middle;\n",
       "    }\n",
       "\n",
       "    .dataframe tbody tr th {\n",
       "        vertical-align: top;\n",
       "    }\n",
       "\n",
       "    .dataframe thead th {\n",
       "        text-align: right;\n",
       "    }\n",
       "</style>\n",
       "<table border=\"1\" class=\"dataframe\">\n",
       "  <thead>\n",
       "    <tr style=\"text-align: right;\">\n",
       "      <th></th>\n",
       "      <th>InvoiceNo</th>\n",
       "      <th>StockCode</th>\n",
       "      <th>Description</th>\n",
       "      <th>Quantity</th>\n",
       "      <th>InvoiceDate</th>\n",
       "      <th>UnitPrice</th>\n",
       "      <th>CustomerID</th>\n",
       "      <th>Country</th>\n",
       "    </tr>\n",
       "  </thead>\n",
       "  <tbody>\n",
       "    <tr>\n",
       "      <th>0</th>\n",
       "      <td>536365</td>\n",
       "      <td>85123A</td>\n",
       "      <td>WHITE HANGING HEART T-LIGHT HOLDER</td>\n",
       "      <td>6</td>\n",
       "      <td>2010-12-01 08:26:00</td>\n",
       "      <td>2.55</td>\n",
       "      <td>17850.0</td>\n",
       "      <td>United Kingdom</td>\n",
       "    </tr>\n",
       "    <tr>\n",
       "      <th>1</th>\n",
       "      <td>536365</td>\n",
       "      <td>71053</td>\n",
       "      <td>WHITE METAL LANTERN</td>\n",
       "      <td>6</td>\n",
       "      <td>2010-12-01 08:26:00</td>\n",
       "      <td>3.39</td>\n",
       "      <td>17850.0</td>\n",
       "      <td>United Kingdom</td>\n",
       "    </tr>\n",
       "    <tr>\n",
       "      <th>2</th>\n",
       "      <td>536365</td>\n",
       "      <td>84406B</td>\n",
       "      <td>CREAM CUPID HEARTS COAT HANGER</td>\n",
       "      <td>8</td>\n",
       "      <td>2010-12-01 08:26:00</td>\n",
       "      <td>2.75</td>\n",
       "      <td>17850.0</td>\n",
       "      <td>United Kingdom</td>\n",
       "    </tr>\n",
       "    <tr>\n",
       "      <th>3</th>\n",
       "      <td>536365</td>\n",
       "      <td>84029G</td>\n",
       "      <td>KNITTED UNION FLAG HOT WATER BOTTLE</td>\n",
       "      <td>6</td>\n",
       "      <td>2010-12-01 08:26:00</td>\n",
       "      <td>3.39</td>\n",
       "      <td>17850.0</td>\n",
       "      <td>United Kingdom</td>\n",
       "    </tr>\n",
       "    <tr>\n",
       "      <th>4</th>\n",
       "      <td>536365</td>\n",
       "      <td>84029E</td>\n",
       "      <td>RED WOOLLY HOTTIE WHITE HEART.</td>\n",
       "      <td>6</td>\n",
       "      <td>2010-12-01 08:26:00</td>\n",
       "      <td>3.39</td>\n",
       "      <td>17850.0</td>\n",
       "      <td>United Kingdom</td>\n",
       "    </tr>\n",
       "  </tbody>\n",
       "</table>\n",
       "</div>"
      ],
      "text/plain": [
       "  InvoiceNo StockCode                          Description  Quantity  \\\n",
       "0    536365    85123A   WHITE HANGING HEART T-LIGHT HOLDER         6   \n",
       "1    536365     71053                  WHITE METAL LANTERN         6   \n",
       "2    536365    84406B       CREAM CUPID HEARTS COAT HANGER         8   \n",
       "3    536365    84029G  KNITTED UNION FLAG HOT WATER BOTTLE         6   \n",
       "4    536365    84029E       RED WOOLLY HOTTIE WHITE HEART.         6   \n",
       "\n",
       "          InvoiceDate  UnitPrice  CustomerID         Country  \n",
       "0 2010-12-01 08:26:00       2.55     17850.0  United Kingdom  \n",
       "1 2010-12-01 08:26:00       3.39     17850.0  United Kingdom  \n",
       "2 2010-12-01 08:26:00       2.75     17850.0  United Kingdom  \n",
       "3 2010-12-01 08:26:00       3.39     17850.0  United Kingdom  \n",
       "4 2010-12-01 08:26:00       3.39     17850.0  United Kingdom  "
      ]
     },
     "execution_count": 19,
     "metadata": {},
     "output_type": "execute_result"
    }
   ],
   "source": [
    "new_df.head()"
   ]
  },
  {
   "cell_type": "code",
   "execution_count": 20,
   "id": "a9d068fb-daf7-48be-81ec-08c7cca59917",
   "metadata": {},
   "outputs": [
    {
     "data": {
      "text/plain": [
       "Description\n",
       "20713                            -0.007727\n",
       " 4 PURPLE FLOCK DINNER CANDLES    0.002782\n",
       " 50'S CHRISTMAS GIFT BAG LARGE    0.036956\n",
       " DOLLY GIRL BEAKER                0.047291\n",
       " I LOVE LONDON MINI BACKPACK      0.007515\n",
       "                                    ...   \n",
       "wrongly marked carton 22804      -0.004945\n",
       "wrongly marked. 23343 in box     -0.059887\n",
       "wrongly sold (22719) barcode      0.003284\n",
       "wrongly sold as sets             -0.011591\n",
       "wrongly sold sets                -0.018835\n",
       "Name: Quantity, Length: 4223, dtype: float64"
      ]
     },
     "execution_count": 20,
     "metadata": {},
     "output_type": "execute_result"
    }
   ],
   "source": [
    "(df.groupby('Description')['Quantity'].sum()/(df['Quantity'].sum()))*100"
   ]
  },
  {
   "cell_type": "code",
   "execution_count": 21,
   "id": "7e23e2a1-b124-438f-bdef-34db168a9a41",
   "metadata": {},
   "outputs": [
    {
     "data": {
      "text/plain": [
       "CustomerID\n",
       "12346.0       0\n",
       "12347.0    2458\n",
       "12348.0    2341\n",
       "12349.0     631\n",
       "12350.0     197\n",
       "           ... \n",
       "18280.0      45\n",
       "18281.0      54\n",
       "18282.0      98\n",
       "18283.0    1397\n",
       "18287.0    1586\n",
       "Name: Quantity, Length: 4372, dtype: int64"
      ]
     },
     "execution_count": 21,
     "metadata": {},
     "output_type": "execute_result"
    }
   ],
   "source": [
    "df.groupby('CustomerID')['Quantity'].sum()"
   ]
  },
  {
   "cell_type": "code",
   "execution_count": 22,
   "id": "44809e6e-c9ab-4c6b-843f-09f1fc61e4c0",
   "metadata": {},
   "outputs": [
    {
     "data": {
      "text/plain": [
       "CustomerID  Description                      \n",
       "12346.0     MEDIUM CERAMIC TOP STORAGE JAR         0\n",
       "12347.0     3D DOG PICTURE PLAYING CARDS         126\n",
       "            3D SHEET OF CAT STICKERS              12\n",
       "            3D SHEET OF DOG STICKERS              12\n",
       "            60 TEATIME FAIRY CAKE CASES           72\n",
       "                                                ... \n",
       "18287.0     STAR T-LIGHT HOLDER WILLIE WINKIE     12\n",
       "            STRAWBERRY BATH SPONGE                30\n",
       "            STRAWBERRY CERAMIC TRINKET BOX        12\n",
       "            SWISS CHALET TREE DECORATION          48\n",
       "            TREE T-LIGHT HOLDER WILLIE WINKIE     12\n",
       "Name: Quantity, Length: 269157, dtype: int64"
      ]
     },
     "execution_count": 22,
     "metadata": {},
     "output_type": "execute_result"
    }
   ],
   "source": [
    "df.groupby(['CustomerID','Description'])['Quantity'].sum()"
   ]
  },
  {
   "cell_type": "code",
   "execution_count": 23,
   "id": "f335b2ce-3632-40d9-b521-9ae5a0e351b3",
   "metadata": {},
   "outputs": [],
   "source": [
    "negative_indices = new_df[new_df['Quantity'] < 0].index"
   ]
  },
  {
   "cell_type": "code",
   "execution_count": 24,
   "id": "703ad9e0-68dd-449e-873b-2fe9917d476a",
   "metadata": {},
   "outputs": [],
   "source": [
    "new_df=new_df.drop(negative_indices)"
   ]
  },
  {
   "cell_type": "code",
   "execution_count": 25,
   "id": "ed162cb6-5f8b-425e-a46f-deacb08f529b",
   "metadata": {},
   "outputs": [
    {
     "name": "stdout",
     "output_type": "stream",
     "text": [
      "<class 'pandas.core.frame.DataFrame'>\n",
      "Index: 397924 entries, 0 to 541908\n",
      "Data columns (total 8 columns):\n",
      " #   Column       Non-Null Count   Dtype         \n",
      "---  ------       --------------   -----         \n",
      " 0   InvoiceNo    397924 non-null  object        \n",
      " 1   StockCode    397924 non-null  object        \n",
      " 2   Description  397924 non-null  object        \n",
      " 3   Quantity     397924 non-null  int64         \n",
      " 4   InvoiceDate  397924 non-null  datetime64[ns]\n",
      " 5   UnitPrice    397924 non-null  float64       \n",
      " 6   CustomerID   397924 non-null  float64       \n",
      " 7   Country      397924 non-null  object        \n",
      "dtypes: datetime64[ns](1), float64(2), int64(1), object(4)\n",
      "memory usage: 27.3+ MB\n"
     ]
    }
   ],
   "source": [
    "new_df.info()"
   ]
  },
  {
   "cell_type": "code",
   "execution_count": 26,
   "id": "6c974314-3b19-4476-9957-2d9759a3a89c",
   "metadata": {},
   "outputs": [
    {
     "data": {
      "text/plain": [
       "CustomerID  Description                      \n",
       "12346.0     MEDIUM CERAMIC TOP STORAGE JAR         0\n",
       "12347.0     3D DOG PICTURE PLAYING CARDS         126\n",
       "            3D SHEET OF CAT STICKERS              12\n",
       "            3D SHEET OF DOG STICKERS              12\n",
       "            60 TEATIME FAIRY CAKE CASES           72\n",
       "                                                ... \n",
       "18287.0     STAR T-LIGHT HOLDER WILLIE WINKIE     12\n",
       "            STRAWBERRY BATH SPONGE                30\n",
       "            STRAWBERRY CERAMIC TRINKET BOX        12\n",
       "            SWISS CHALET TREE DECORATION          48\n",
       "            TREE T-LIGHT HOLDER WILLIE WINKIE     12\n",
       "Name: Quantity, Length: 269157, dtype: int64"
      ]
     },
     "execution_count": 26,
     "metadata": {},
     "output_type": "execute_result"
    }
   ],
   "source": [
    "df.groupby(['CustomerID','Description'])['Quantity'].sum()"
   ]
  },
  {
   "cell_type": "code",
   "execution_count": 27,
   "id": "7d53d2ec-7dc0-45e2-8533-51641900800f",
   "metadata": {},
   "outputs": [
    {
     "data": {
      "text/html": [
       "<div>\n",
       "<style scoped>\n",
       "    .dataframe tbody tr th:only-of-type {\n",
       "        vertical-align: middle;\n",
       "    }\n",
       "\n",
       "    .dataframe tbody tr th {\n",
       "        vertical-align: top;\n",
       "    }\n",
       "\n",
       "    .dataframe thead th {\n",
       "        text-align: right;\n",
       "    }\n",
       "</style>\n",
       "<table border=\"1\" class=\"dataframe\">\n",
       "  <thead>\n",
       "    <tr style=\"text-align: right;\">\n",
       "      <th></th>\n",
       "      <th>InvoiceNo</th>\n",
       "      <th>StockCode</th>\n",
       "      <th>Description</th>\n",
       "      <th>Quantity</th>\n",
       "      <th>InvoiceDate</th>\n",
       "      <th>UnitPrice</th>\n",
       "      <th>CustomerID</th>\n",
       "      <th>Country</th>\n",
       "    </tr>\n",
       "  </thead>\n",
       "  <tbody>\n",
       "    <tr>\n",
       "      <th>0</th>\n",
       "      <td>536365</td>\n",
       "      <td>85123A</td>\n",
       "      <td>WHITE HANGING HEART T-LIGHT HOLDER</td>\n",
       "      <td>6</td>\n",
       "      <td>2010-12-01 08:26:00</td>\n",
       "      <td>2.55</td>\n",
       "      <td>17850.0</td>\n",
       "      <td>United Kingdom</td>\n",
       "    </tr>\n",
       "    <tr>\n",
       "      <th>1</th>\n",
       "      <td>536365</td>\n",
       "      <td>71053</td>\n",
       "      <td>WHITE METAL LANTERN</td>\n",
       "      <td>6</td>\n",
       "      <td>2010-12-01 08:26:00</td>\n",
       "      <td>3.39</td>\n",
       "      <td>17850.0</td>\n",
       "      <td>United Kingdom</td>\n",
       "    </tr>\n",
       "    <tr>\n",
       "      <th>2</th>\n",
       "      <td>536365</td>\n",
       "      <td>84406B</td>\n",
       "      <td>CREAM CUPID HEARTS COAT HANGER</td>\n",
       "      <td>8</td>\n",
       "      <td>2010-12-01 08:26:00</td>\n",
       "      <td>2.75</td>\n",
       "      <td>17850.0</td>\n",
       "      <td>United Kingdom</td>\n",
       "    </tr>\n",
       "    <tr>\n",
       "      <th>3</th>\n",
       "      <td>536365</td>\n",
       "      <td>84029G</td>\n",
       "      <td>KNITTED UNION FLAG HOT WATER BOTTLE</td>\n",
       "      <td>6</td>\n",
       "      <td>2010-12-01 08:26:00</td>\n",
       "      <td>3.39</td>\n",
       "      <td>17850.0</td>\n",
       "      <td>United Kingdom</td>\n",
       "    </tr>\n",
       "    <tr>\n",
       "      <th>4</th>\n",
       "      <td>536365</td>\n",
       "      <td>84029E</td>\n",
       "      <td>RED WOOLLY HOTTIE WHITE HEART.</td>\n",
       "      <td>6</td>\n",
       "      <td>2010-12-01 08:26:00</td>\n",
       "      <td>3.39</td>\n",
       "      <td>17850.0</td>\n",
       "      <td>United Kingdom</td>\n",
       "    </tr>\n",
       "  </tbody>\n",
       "</table>\n",
       "</div>"
      ],
      "text/plain": [
       "  InvoiceNo StockCode                          Description  Quantity  \\\n",
       "0    536365    85123A   WHITE HANGING HEART T-LIGHT HOLDER         6   \n",
       "1    536365     71053                  WHITE METAL LANTERN         6   \n",
       "2    536365    84406B       CREAM CUPID HEARTS COAT HANGER         8   \n",
       "3    536365    84029G  KNITTED UNION FLAG HOT WATER BOTTLE         6   \n",
       "4    536365    84029E       RED WOOLLY HOTTIE WHITE HEART.         6   \n",
       "\n",
       "          InvoiceDate  UnitPrice  CustomerID         Country  \n",
       "0 2010-12-01 08:26:00       2.55     17850.0  United Kingdom  \n",
       "1 2010-12-01 08:26:00       3.39     17850.0  United Kingdom  \n",
       "2 2010-12-01 08:26:00       2.75     17850.0  United Kingdom  \n",
       "3 2010-12-01 08:26:00       3.39     17850.0  United Kingdom  \n",
       "4 2010-12-01 08:26:00       3.39     17850.0  United Kingdom  "
      ]
     },
     "execution_count": 27,
     "metadata": {},
     "output_type": "execute_result"
    }
   ],
   "source": [
    "new_df.head()"
   ]
  },
  {
   "cell_type": "code",
   "execution_count": 28,
   "id": "a5f55bfc-bdf2-464a-808b-39849afb62e3",
   "metadata": {},
   "outputs": [
    {
     "data": {
      "text/plain": [
       "CustomerID  Description                      \n",
       "12346.0     MEDIUM CERAMIC TOP STORAGE JAR       74215\n",
       "12347.0     3D DOG PICTURE PLAYING CARDS           126\n",
       "            3D SHEET OF CAT STICKERS                12\n",
       "            3D SHEET OF DOG STICKERS                12\n",
       "            60 TEATIME FAIRY CAKE CASES             72\n",
       "                                                 ...  \n",
       "18287.0     STAR T-LIGHT HOLDER WILLIE WINKIE       12\n",
       "            STRAWBERRY BATH SPONGE                  30\n",
       "            STRAWBERRY CERAMIC TRINKET BOX          12\n",
       "            SWISS CHALET TREE DECORATION            48\n",
       "            TREE T-LIGHT HOLDER WILLIE WINKIE       12\n",
       "Name: Quantity, Length: 268295, dtype: int64"
      ]
     },
     "execution_count": 28,
     "metadata": {},
     "output_type": "execute_result"
    }
   ],
   "source": [
    "new_df.groupby(['CustomerID','Description'])['Quantity'].sum()"
   ]
  },
  {
   "cell_type": "code",
   "execution_count": 29,
   "id": "3389b222-55e1-4bba-8fdc-1ec9ee68b402",
   "metadata": {},
   "outputs": [
    {
     "data": {
      "text/plain": [
       "CustomerID  Description                      \n",
       "12346.0     MEDIUM CERAMIC TOP STORAGE JAR       1\n",
       "12347.0     AIRLINE BAG VINTAGE JET SET BROWN    6\n",
       "            3D DOG PICTURE PLAYING CARDS         5\n",
       "            ALARM CLOCK BAKELIKE RED             5\n",
       "            RED TOADSTOOL LED NIGHT LIGHT        5\n",
       "                                                ..\n",
       "18287.0     SMALL YELLOW BABUSHKA NOTEBOOK       1\n",
       "            STAR T-LIGHT HOLDER WILLIE WINKIE    1\n",
       "            STRAWBERRY BATH SPONGE               1\n",
       "            STRAWBERRY CERAMIC TRINKET BOX       1\n",
       "            TREE T-LIGHT HOLDER WILLIE WINKIE    1\n",
       "Name: count, Length: 268295, dtype: int64"
      ]
     },
     "execution_count": 29,
     "metadata": {},
     "output_type": "execute_result"
    }
   ],
   "source": [
    "new_df.groupby('CustomerID')['Description'].value_counts()"
   ]
  },
  {
   "cell_type": "code",
   "execution_count": 30,
   "id": "f60e925c-d129-4dce-ae06-a50b9d0dd23c",
   "metadata": {},
   "outputs": [
    {
     "data": {
      "text/html": [
       "<div>\n",
       "<style scoped>\n",
       "    .dataframe tbody tr th:only-of-type {\n",
       "        vertical-align: middle;\n",
       "    }\n",
       "\n",
       "    .dataframe tbody tr th {\n",
       "        vertical-align: top;\n",
       "    }\n",
       "\n",
       "    .dataframe thead th {\n",
       "        text-align: right;\n",
       "    }\n",
       "</style>\n",
       "<table border=\"1\" class=\"dataframe\">\n",
       "  <thead>\n",
       "    <tr style=\"text-align: right;\">\n",
       "      <th></th>\n",
       "      <th>InvoiceNo</th>\n",
       "      <th>StockCode</th>\n",
       "      <th>Description</th>\n",
       "      <th>Quantity</th>\n",
       "      <th>InvoiceDate</th>\n",
       "      <th>UnitPrice</th>\n",
       "      <th>CustomerID</th>\n",
       "      <th>Country</th>\n",
       "    </tr>\n",
       "  </thead>\n",
       "  <tbody>\n",
       "    <tr>\n",
       "      <th>0</th>\n",
       "      <td>536365</td>\n",
       "      <td>85123A</td>\n",
       "      <td>WHITE HANGING HEART T-LIGHT HOLDER</td>\n",
       "      <td>6</td>\n",
       "      <td>2010-12-01 08:26:00</td>\n",
       "      <td>2.55</td>\n",
       "      <td>17850.0</td>\n",
       "      <td>United Kingdom</td>\n",
       "    </tr>\n",
       "    <tr>\n",
       "      <th>1</th>\n",
       "      <td>536365</td>\n",
       "      <td>71053</td>\n",
       "      <td>WHITE METAL LANTERN</td>\n",
       "      <td>6</td>\n",
       "      <td>2010-12-01 08:26:00</td>\n",
       "      <td>3.39</td>\n",
       "      <td>17850.0</td>\n",
       "      <td>United Kingdom</td>\n",
       "    </tr>\n",
       "    <tr>\n",
       "      <th>2</th>\n",
       "      <td>536365</td>\n",
       "      <td>84406B</td>\n",
       "      <td>CREAM CUPID HEARTS COAT HANGER</td>\n",
       "      <td>8</td>\n",
       "      <td>2010-12-01 08:26:00</td>\n",
       "      <td>2.75</td>\n",
       "      <td>17850.0</td>\n",
       "      <td>United Kingdom</td>\n",
       "    </tr>\n",
       "    <tr>\n",
       "      <th>3</th>\n",
       "      <td>536365</td>\n",
       "      <td>84029G</td>\n",
       "      <td>KNITTED UNION FLAG HOT WATER BOTTLE</td>\n",
       "      <td>6</td>\n",
       "      <td>2010-12-01 08:26:00</td>\n",
       "      <td>3.39</td>\n",
       "      <td>17850.0</td>\n",
       "      <td>United Kingdom</td>\n",
       "    </tr>\n",
       "    <tr>\n",
       "      <th>4</th>\n",
       "      <td>536365</td>\n",
       "      <td>84029E</td>\n",
       "      <td>RED WOOLLY HOTTIE WHITE HEART.</td>\n",
       "      <td>6</td>\n",
       "      <td>2010-12-01 08:26:00</td>\n",
       "      <td>3.39</td>\n",
       "      <td>17850.0</td>\n",
       "      <td>United Kingdom</td>\n",
       "    </tr>\n",
       "  </tbody>\n",
       "</table>\n",
       "</div>"
      ],
      "text/plain": [
       "  InvoiceNo StockCode                          Description  Quantity  \\\n",
       "0    536365    85123A   WHITE HANGING HEART T-LIGHT HOLDER         6   \n",
       "1    536365     71053                  WHITE METAL LANTERN         6   \n",
       "2    536365    84406B       CREAM CUPID HEARTS COAT HANGER         8   \n",
       "3    536365    84029G  KNITTED UNION FLAG HOT WATER BOTTLE         6   \n",
       "4    536365    84029E       RED WOOLLY HOTTIE WHITE HEART.         6   \n",
       "\n",
       "          InvoiceDate  UnitPrice  CustomerID         Country  \n",
       "0 2010-12-01 08:26:00       2.55     17850.0  United Kingdom  \n",
       "1 2010-12-01 08:26:00       3.39     17850.0  United Kingdom  \n",
       "2 2010-12-01 08:26:00       2.75     17850.0  United Kingdom  \n",
       "3 2010-12-01 08:26:00       3.39     17850.0  United Kingdom  \n",
       "4 2010-12-01 08:26:00       3.39     17850.0  United Kingdom  "
      ]
     },
     "execution_count": 30,
     "metadata": {},
     "output_type": "execute_result"
    }
   ],
   "source": [
    "new_df.head()"
   ]
  },
  {
   "cell_type": "code",
   "execution_count": 31,
   "id": "14c1e1a1-dcf9-41b0-a9b1-2c611606b5d3",
   "metadata": {},
   "outputs": [
    {
     "data": {
      "text/html": [
       "<div>\n",
       "<style scoped>\n",
       "    .dataframe tbody tr th:only-of-type {\n",
       "        vertical-align: middle;\n",
       "    }\n",
       "\n",
       "    .dataframe tbody tr th {\n",
       "        vertical-align: top;\n",
       "    }\n",
       "\n",
       "    .dataframe thead th {\n",
       "        text-align: right;\n",
       "    }\n",
       "</style>\n",
       "<table border=\"1\" class=\"dataframe\">\n",
       "  <thead>\n",
       "    <tr style=\"text-align: right;\">\n",
       "      <th></th>\n",
       "      <th>InvoiceNo</th>\n",
       "      <th>StockCode</th>\n",
       "      <th>Description</th>\n",
       "      <th>Quantity</th>\n",
       "      <th>InvoiceDate</th>\n",
       "      <th>UnitPrice</th>\n",
       "      <th>CustomerID</th>\n",
       "      <th>Country</th>\n",
       "    </tr>\n",
       "  </thead>\n",
       "  <tbody>\n",
       "    <tr>\n",
       "      <th>61619</th>\n",
       "      <td>541431</td>\n",
       "      <td>23166</td>\n",
       "      <td>MEDIUM CERAMIC TOP STORAGE JAR</td>\n",
       "      <td>74215</td>\n",
       "      <td>2011-01-18 10:01:00</td>\n",
       "      <td>1.04</td>\n",
       "      <td>12346.0</td>\n",
       "      <td>United Kingdom</td>\n",
       "    </tr>\n",
       "    <tr>\n",
       "      <th>14938</th>\n",
       "      <td>537626</td>\n",
       "      <td>85116</td>\n",
       "      <td>BLACK CANDELABRA T-LIGHT HOLDER</td>\n",
       "      <td>12</td>\n",
       "      <td>2010-12-07 14:57:00</td>\n",
       "      <td>2.10</td>\n",
       "      <td>12347.0</td>\n",
       "      <td>Iceland</td>\n",
       "    </tr>\n",
       "    <tr>\n",
       "      <th>14939</th>\n",
       "      <td>537626</td>\n",
       "      <td>22375</td>\n",
       "      <td>AIRLINE BAG VINTAGE JET SET BROWN</td>\n",
       "      <td>4</td>\n",
       "      <td>2010-12-07 14:57:00</td>\n",
       "      <td>4.25</td>\n",
       "      <td>12347.0</td>\n",
       "      <td>Iceland</td>\n",
       "    </tr>\n",
       "    <tr>\n",
       "      <th>14940</th>\n",
       "      <td>537626</td>\n",
       "      <td>71477</td>\n",
       "      <td>COLOUR GLASS. STAR T-LIGHT HOLDER</td>\n",
       "      <td>12</td>\n",
       "      <td>2010-12-07 14:57:00</td>\n",
       "      <td>3.25</td>\n",
       "      <td>12347.0</td>\n",
       "      <td>Iceland</td>\n",
       "    </tr>\n",
       "    <tr>\n",
       "      <th>14941</th>\n",
       "      <td>537626</td>\n",
       "      <td>22492</td>\n",
       "      <td>MINI PAINT SET VINTAGE</td>\n",
       "      <td>36</td>\n",
       "      <td>2010-12-07 14:57:00</td>\n",
       "      <td>0.65</td>\n",
       "      <td>12347.0</td>\n",
       "      <td>Iceland</td>\n",
       "    </tr>\n",
       "  </tbody>\n",
       "</table>\n",
       "</div>"
      ],
      "text/plain": [
       "      InvoiceNo StockCode                        Description  Quantity  \\\n",
       "61619    541431     23166     MEDIUM CERAMIC TOP STORAGE JAR     74215   \n",
       "14938    537626     85116    BLACK CANDELABRA T-LIGHT HOLDER        12   \n",
       "14939    537626     22375  AIRLINE BAG VINTAGE JET SET BROWN         4   \n",
       "14940    537626     71477  COLOUR GLASS. STAR T-LIGHT HOLDER        12   \n",
       "14941    537626     22492            MINI PAINT SET VINTAGE         36   \n",
       "\n",
       "              InvoiceDate  UnitPrice  CustomerID         Country  \n",
       "61619 2011-01-18 10:01:00       1.04     12346.0  United Kingdom  \n",
       "14938 2010-12-07 14:57:00       2.10     12347.0         Iceland  \n",
       "14939 2010-12-07 14:57:00       4.25     12347.0         Iceland  \n",
       "14940 2010-12-07 14:57:00       3.25     12347.0         Iceland  \n",
       "14941 2010-12-07 14:57:00       0.65     12347.0         Iceland  "
      ]
     },
     "execution_count": 31,
     "metadata": {},
     "output_type": "execute_result"
    }
   ],
   "source": [
    "new_df=new_df.sort_values(by=['CustomerID','InvoiceDate'])\n",
    "new_df.head()"
   ]
  },
  {
   "cell_type": "code",
   "execution_count": 32,
   "id": "2fb357e8-6359-4f68-999d-2696238b4718",
   "metadata": {},
   "outputs": [
    {
     "data": {
      "text/plain": [
       "4339"
      ]
     },
     "execution_count": 32,
     "metadata": {},
     "output_type": "execute_result"
    }
   ],
   "source": [
    "new_df['CustomerID'].nunique()"
   ]
  },
  {
   "cell_type": "code",
   "execution_count": 33,
   "id": "29e57638-beee-43ef-b63d-152edb467537",
   "metadata": {},
   "outputs": [
    {
     "data": {
      "text/plain": [
       "InvoiceNo      18536\n",
       "StockCode       3665\n",
       "Description     3877\n",
       "Quantity         302\n",
       "InvoiceDate    17286\n",
       "UnitPrice        441\n",
       "CustomerID      4339\n",
       "Country           37\n",
       "dtype: int64"
      ]
     },
     "execution_count": 33,
     "metadata": {},
     "output_type": "execute_result"
    }
   ],
   "source": [
    "new_df.nunique()"
   ]
  },
  {
   "cell_type": "code",
   "execution_count": 34,
   "id": "b67b5f37-3267-4b9a-9db0-7e6dd69b558e",
   "metadata": {},
   "outputs": [
    {
     "data": {
      "text/plain": [
       "InvoiceNo\n",
       "536365    [WHITE HANGING HEART T-LIGHT HOLDER, WHITE MET...\n",
       "536366    [HAND WARMER UNION JACK, HAND WARMER RED POLKA...\n",
       "536367    [ASSORTED COLOUR BIRD ORNAMENT, POPPY'S PLAYHO...\n",
       "536368    [JAM MAKING SET WITH JARS, RED COAT RACK PARIS...\n",
       "536369                           [BATH BUILDING BLOCK WORD]\n",
       "                                ...                        \n",
       "581583    [LUNCH BAG RED RETROSPOT, 6 CHOCOLATE LOVE HEA...\n",
       "581584    [RED FLOCK LOVE HEART PHOTO FRAME, 6 CHOCOLATE...\n",
       "581585    [BLACK TEA TOWEL CLASSIC DESIGN, ASSORTED BOTT...\n",
       "581586    [LARGE CAKE STAND  HANGING STRAWBERY, SET OF 3...\n",
       "581587    [CIRCUS PARADE LUNCH BOX , PLASTERS IN TIN CIR...\n",
       "Name: Description, Length: 18536, dtype: object"
      ]
     },
     "execution_count": 34,
     "metadata": {},
     "output_type": "execute_result"
    }
   ],
   "source": [
    "new_df.groupby('InvoiceNo')['Description'].agg(list)"
   ]
  },
  {
   "cell_type": "code",
   "execution_count": 35,
   "id": "bca8e323-0fd4-48ea-88a4-11add9054daa",
   "metadata": {},
   "outputs": [
    {
     "data": {
      "text/plain": [
       "18536"
      ]
     },
     "execution_count": 35,
     "metadata": {},
     "output_type": "execute_result"
    }
   ],
   "source": [
    "new_df['InvoiceNo'].nunique()"
   ]
  },
  {
   "cell_type": "code",
   "execution_count": 36,
   "id": "f017a8e2-39a7-4ab3-8f5f-6cb967d90c32",
   "metadata": {},
   "outputs": [
    {
     "data": {
      "text/html": [
       "<div>\n",
       "<style scoped>\n",
       "    .dataframe tbody tr th:only-of-type {\n",
       "        vertical-align: middle;\n",
       "    }\n",
       "\n",
       "    .dataframe tbody tr th {\n",
       "        vertical-align: top;\n",
       "    }\n",
       "\n",
       "    .dataframe thead th {\n",
       "        text-align: right;\n",
       "    }\n",
       "</style>\n",
       "<table border=\"1\" class=\"dataframe\">\n",
       "  <thead>\n",
       "    <tr style=\"text-align: right;\">\n",
       "      <th></th>\n",
       "      <th>InvoiceNo</th>\n",
       "      <th>StockCode</th>\n",
       "      <th>Description</th>\n",
       "      <th>Quantity</th>\n",
       "      <th>InvoiceDate</th>\n",
       "      <th>UnitPrice</th>\n",
       "      <th>CustomerID</th>\n",
       "      <th>Country</th>\n",
       "    </tr>\n",
       "  </thead>\n",
       "  <tbody>\n",
       "    <tr>\n",
       "      <th>61619</th>\n",
       "      <td>541431</td>\n",
       "      <td>23166</td>\n",
       "      <td>MEDIUM CERAMIC TOP STORAGE JAR</td>\n",
       "      <td>74215</td>\n",
       "      <td>2011-01-18 10:01:00</td>\n",
       "      <td>1.04</td>\n",
       "      <td>12346.0</td>\n",
       "      <td>United Kingdom</td>\n",
       "    </tr>\n",
       "    <tr>\n",
       "      <th>14938</th>\n",
       "      <td>537626</td>\n",
       "      <td>85116</td>\n",
       "      <td>BLACK CANDELABRA T-LIGHT HOLDER</td>\n",
       "      <td>12</td>\n",
       "      <td>2010-12-07 14:57:00</td>\n",
       "      <td>2.10</td>\n",
       "      <td>12347.0</td>\n",
       "      <td>Iceland</td>\n",
       "    </tr>\n",
       "    <tr>\n",
       "      <th>14939</th>\n",
       "      <td>537626</td>\n",
       "      <td>22375</td>\n",
       "      <td>AIRLINE BAG VINTAGE JET SET BROWN</td>\n",
       "      <td>4</td>\n",
       "      <td>2010-12-07 14:57:00</td>\n",
       "      <td>4.25</td>\n",
       "      <td>12347.0</td>\n",
       "      <td>Iceland</td>\n",
       "    </tr>\n",
       "    <tr>\n",
       "      <th>14940</th>\n",
       "      <td>537626</td>\n",
       "      <td>71477</td>\n",
       "      <td>COLOUR GLASS. STAR T-LIGHT HOLDER</td>\n",
       "      <td>12</td>\n",
       "      <td>2010-12-07 14:57:00</td>\n",
       "      <td>3.25</td>\n",
       "      <td>12347.0</td>\n",
       "      <td>Iceland</td>\n",
       "    </tr>\n",
       "    <tr>\n",
       "      <th>14941</th>\n",
       "      <td>537626</td>\n",
       "      <td>22492</td>\n",
       "      <td>MINI PAINT SET VINTAGE</td>\n",
       "      <td>36</td>\n",
       "      <td>2010-12-07 14:57:00</td>\n",
       "      <td>0.65</td>\n",
       "      <td>12347.0</td>\n",
       "      <td>Iceland</td>\n",
       "    </tr>\n",
       "  </tbody>\n",
       "</table>\n",
       "</div>"
      ],
      "text/plain": [
       "      InvoiceNo StockCode                        Description  Quantity  \\\n",
       "61619    541431     23166     MEDIUM CERAMIC TOP STORAGE JAR     74215   \n",
       "14938    537626     85116    BLACK CANDELABRA T-LIGHT HOLDER        12   \n",
       "14939    537626     22375  AIRLINE BAG VINTAGE JET SET BROWN         4   \n",
       "14940    537626     71477  COLOUR GLASS. STAR T-LIGHT HOLDER        12   \n",
       "14941    537626     22492            MINI PAINT SET VINTAGE         36   \n",
       "\n",
       "              InvoiceDate  UnitPrice  CustomerID         Country  \n",
       "61619 2011-01-18 10:01:00       1.04     12346.0  United Kingdom  \n",
       "14938 2010-12-07 14:57:00       2.10     12347.0         Iceland  \n",
       "14939 2010-12-07 14:57:00       4.25     12347.0         Iceland  \n",
       "14940 2010-12-07 14:57:00       3.25     12347.0         Iceland  \n",
       "14941 2010-12-07 14:57:00       0.65     12347.0         Iceland  "
      ]
     },
     "execution_count": 36,
     "metadata": {},
     "output_type": "execute_result"
    }
   ],
   "source": [
    "new_df.head()"
   ]
  },
  {
   "cell_type": "code",
   "execution_count": 37,
   "id": "5051bb34-97ce-4ac5-907c-d7621ba4ead5",
   "metadata": {},
   "outputs": [
    {
     "data": {
      "text/plain": [
       "Description                       UnitPrice\n",
       " 4 PURPLE FLOCK DINNER CANDLES    2.55          34\n",
       "                                  0.79           5\n",
       " 50'S CHRISTMAS GIFT BAG LARGE    1.25         108\n",
       "                                  1.04           1\n",
       " DOLLY GIRL BEAKER                1.25         133\n",
       "                                              ... \n",
       "ZINC WIRE KITCHEN ORGANISER       3.95           6\n",
       "                                  10.40          6\n",
       "ZINC WIRE SWEETHEART LETTER TRAY  3.75          16\n",
       "                                  1.25           2\n",
       "                                  3.29           2\n",
       "Name: count, Length: 8909, dtype: int64"
      ]
     },
     "execution_count": 37,
     "metadata": {},
     "output_type": "execute_result"
    }
   ],
   "source": [
    "new_df.groupby('Description')['UnitPrice'].value_counts()"
   ]
  },
  {
   "cell_type": "code",
   "execution_count": 38,
   "id": "c647b9bc-c2ac-4be6-b356-588fb7518201",
   "metadata": {},
   "outputs": [
    {
     "data": {
      "text/plain": [
       "Description\n",
       "WHITE HANGING HEART T-LIGHT HOLDER    10.940872\n",
       "REGENCY CAKESTAND 3 TIER               9.300820\n",
       "JUMBO BAG RED RETROSPOT                8.728960\n",
       "ASSORTED COLOUR BIRD ORNAMENT          7.596029\n",
       "PARTY BUNTING                          7.536685\n",
       "                                        ...    \n",
       "FLOWER SHOP DESIGN MUG                 0.005395\n",
       "CAPIZ CHANDELIER                       0.005395\n",
       "BLUE NEW BAROQUE FLOCK CANDLESTICK     0.005395\n",
       "CAT WITH SUNGLASSES BLANK CARD         0.005395\n",
       "SCALLOP SHELL SOAP DISH                0.005395\n",
       "Name: count, Length: 3877, dtype: float64"
      ]
     },
     "execution_count": 38,
     "metadata": {},
     "output_type": "execute_result"
    }
   ],
   "source": [
    "(new_df['Description'].value_counts()/new_df['InvoiceNo'].nunique())*100"
   ]
  },
  {
   "cell_type": "code",
   "execution_count": 39,
   "id": "c22c8073-4d89-46f9-85db-448b74545ba5",
   "metadata": {},
   "outputs": [
    {
     "data": {
      "text/plain": [
       "np.int64(19)"
      ]
     },
     "execution_count": 39,
     "metadata": {},
     "output_type": "execute_result"
    }
   ],
   "source": [
    "frequently_bought_count=(((new_df['Description'].value_counts()/new_df['InvoiceNo'].nunique())*100)>=5).sum()\n",
    "frequently_bought_count"
   ]
  },
  {
   "cell_type": "code",
   "execution_count": 40,
   "id": "d0b45a2a-2fb1-4d22-bd12-3a0235f6e1c0",
   "metadata": {},
   "outputs": [
    {
     "data": {
      "text/plain": [
       "Description\n",
       "WHITE HANGING HEART T-LIGHT HOLDER    2028\n",
       "REGENCY CAKESTAND 3 TIER              1724\n",
       "JUMBO BAG RED RETROSPOT               1618\n",
       "ASSORTED COLOUR BIRD ORNAMENT         1408\n",
       "PARTY BUNTING                         1397\n",
       "                                      ... \n",
       "FLOWER SHOP DESIGN MUG                   1\n",
       "CAPIZ CHANDELIER                         1\n",
       "BLUE NEW BAROQUE FLOCK CANDLESTICK       1\n",
       "CAT WITH SUNGLASSES BLANK CARD           1\n",
       "SCALLOP SHELL SOAP DISH                  1\n",
       "Name: count, Length: 3877, dtype: int64"
      ]
     },
     "execution_count": 40,
     "metadata": {},
     "output_type": "execute_result"
    }
   ],
   "source": [
    "new_df['Description'].value_counts()"
   ]
  },
  {
   "cell_type": "code",
   "execution_count": 41,
   "id": "d8ac0174-687a-4e09-8ef6-452d1ddf05f5",
   "metadata": {},
   "outputs": [
    {
     "data": {
      "text/plain": [
       "np.int64(397924)"
      ]
     },
     "execution_count": 41,
     "metadata": {},
     "output_type": "execute_result"
    }
   ],
   "source": [
    "new_df['Description'].value_counts().sum()"
   ]
  },
  {
   "cell_type": "code",
   "execution_count": 42,
   "id": "0db5c4d5-4ec1-465d-bee1-4f8c8f51f850",
   "metadata": {},
   "outputs": [
    {
     "data": {
      "text/plain": [
       "3877"
      ]
     },
     "execution_count": 42,
     "metadata": {},
     "output_type": "execute_result"
    }
   ],
   "source": [
    "new_df['Description'].nunique()"
   ]
  },
  {
   "cell_type": "code",
   "execution_count": 43,
   "id": "dd577bef-9541-4b60-aa90-3813de373208",
   "metadata": {},
   "outputs": [
    {
     "data": {
      "text/plain": [
       "18536"
      ]
     },
     "execution_count": 43,
     "metadata": {},
     "output_type": "execute_result"
    }
   ],
   "source": [
    "new_df['InvoiceNo'].nunique()"
   ]
  },
  {
   "cell_type": "code",
   "execution_count": 44,
   "id": "170965d9-7fb2-4996-9707-198451317d26",
   "metadata": {},
   "outputs": [
    {
     "data": {
      "text/plain": [
       "3665"
      ]
     },
     "execution_count": 44,
     "metadata": {},
     "output_type": "execute_result"
    }
   ],
   "source": [
    "new_df['StockCode'].nunique()"
   ]
  },
  {
   "cell_type": "code",
   "execution_count": 45,
   "id": "d21fb589-51fa-4651-a151-f939b8fb8b6c",
   "metadata": {},
   "outputs": [
    {
     "data": {
      "text/plain": [
       "3877"
      ]
     },
     "execution_count": 45,
     "metadata": {},
     "output_type": "execute_result"
    }
   ],
   "source": [
    "new_df['Description'].nunique()"
   ]
  },
  {
   "cell_type": "code",
   "execution_count": 46,
   "id": "a93c49bb-25ad-496d-be18-da5b05be0bcd",
   "metadata": {},
   "outputs": [
    {
     "data": {
      "text/plain": [
       "0.6750108060835738"
      ]
     },
     "execution_count": 46,
     "metadata": {},
     "output_type": "execute_result"
    }
   ],
   "source": [
    "(sum(new_df['Description'].value_counts().iloc[:800]))/new_df.shape[0]"
   ]
  },
  {
   "cell_type": "code",
   "execution_count": 47,
   "id": "1e0821ff-0f14-4a87-85b3-d356cee87da4",
   "metadata": {},
   "outputs": [
    {
     "data": {
      "text/plain": [
       "Description\n",
       "METAL SIGN,CUPCAKE SINGLE HOOK      3\n",
       "COLOURING PENCILS BROWN TUBE        2\n",
       "EAU DE NILE JEWELLED PHOTOFRAME     2\n",
       "COLUMBIAN CANDLE RECTANGLE          2\n",
       "COLUMBIAN CANDLE ROUND              2\n",
       "                                   ..\n",
       "12 HANGING EGGS HAND PAINTED        1\n",
       "12 IVORY ROSE PEG PLACE SETTINGS    1\n",
       "12 MESSAGE CARDS WITH ENVELOPES     1\n",
       "12 PENCIL SMALL TUBE WOODLAND       1\n",
       "ZINC WIRE SWEETHEART LETTER TRAY    1\n",
       "Name: StockCode, Length: 3877, dtype: int64"
      ]
     },
     "execution_count": 47,
     "metadata": {},
     "output_type": "execute_result"
    }
   ],
   "source": [
    "new_df.groupby('Description')['StockCode'].nunique().sort_values(ascending=False)"
   ]
  },
  {
   "cell_type": "code",
   "execution_count": 48,
   "id": "b62afd7b-f442-40f3-a502-7a6aff328f2f",
   "metadata": {},
   "outputs": [
    {
     "data": {
      "text/plain": [
       "StockCode\n",
       "23196    4\n",
       "23236    4\n",
       "23209    3\n",
       "22937    3\n",
       "23131    3\n",
       "        ..\n",
       "16010    1\n",
       "16011    1\n",
       "16012    1\n",
       "16014    1\n",
       "10080    1\n",
       "Name: Description, Length: 3665, dtype: int64"
      ]
     },
     "execution_count": 48,
     "metadata": {},
     "output_type": "execute_result"
    }
   ],
   "source": [
    "new_df.groupby('StockCode')['Description'].nunique().sort_values(ascending=False)"
   ]
  },
  {
   "cell_type": "code",
   "execution_count": 49,
   "id": "db13201d-5e44-4092-b6bd-c8d122ac9505",
   "metadata": {},
   "outputs": [
    {
     "data": {
      "text/html": [
       "<div>\n",
       "<style scoped>\n",
       "    .dataframe tbody tr th:only-of-type {\n",
       "        vertical-align: middle;\n",
       "    }\n",
       "\n",
       "    .dataframe tbody tr th {\n",
       "        vertical-align: top;\n",
       "    }\n",
       "\n",
       "    .dataframe thead th {\n",
       "        text-align: right;\n",
       "    }\n",
       "</style>\n",
       "<table border=\"1\" class=\"dataframe\">\n",
       "  <thead>\n",
       "    <tr style=\"text-align: right;\">\n",
       "      <th></th>\n",
       "      <th>Description</th>\n",
       "      <th>StockCode</th>\n",
       "    </tr>\n",
       "  </thead>\n",
       "  <tbody>\n",
       "    <tr>\n",
       "      <th>304808</th>\n",
       "      <td>COLOURING PENCILS BROWN TUBE</td>\n",
       "      <td>10133</td>\n",
       "    </tr>\n",
       "    <tr>\n",
       "      <th>275427</th>\n",
       "      <td>COLOURING PENCILS BROWN TUBE</td>\n",
       "      <td>10135</td>\n",
       "    </tr>\n",
       "    <tr>\n",
       "      <th>315707</th>\n",
       "      <td>COLUMBIAN CANDLE RECTANGLE</td>\n",
       "      <td>72131</td>\n",
       "    </tr>\n",
       "    <tr>\n",
       "      <th>335760</th>\n",
       "      <td>COLUMBIAN CANDLE RECTANGLE</td>\n",
       "      <td>72133</td>\n",
       "    </tr>\n",
       "    <tr>\n",
       "      <th>18185</th>\n",
       "      <td>COLUMBIAN CANDLE ROUND</td>\n",
       "      <td>72128</td>\n",
       "    </tr>\n",
       "    <tr>\n",
       "      <th>18141</th>\n",
       "      <td>COLUMBIAN CANDLE ROUND</td>\n",
       "      <td>72130</td>\n",
       "    </tr>\n",
       "    <tr>\n",
       "      <th>524992</th>\n",
       "      <td>EAU DE NILE JEWELLED PHOTOFRAME</td>\n",
       "      <td>85023B</td>\n",
       "    </tr>\n",
       "    <tr>\n",
       "      <th>311833</th>\n",
       "      <td>EAU DE NILE JEWELLED PHOTOFRAME</td>\n",
       "      <td>85024B</td>\n",
       "    </tr>\n",
       "    <tr>\n",
       "      <th>280880</th>\n",
       "      <td>FRENCH FLORAL CUSHION COVER</td>\n",
       "      <td>20837</td>\n",
       "    </tr>\n",
       "    <tr>\n",
       "      <th>280882</th>\n",
       "      <td>FRENCH FLORAL CUSHION COVER</td>\n",
       "      <td>20840</td>\n",
       "    </tr>\n",
       "    <tr>\n",
       "      <th>456195</th>\n",
       "      <td>FRENCH LATTICE CUSHION COVER</td>\n",
       "      <td>20835</td>\n",
       "    </tr>\n",
       "    <tr>\n",
       "      <th>280881</th>\n",
       "      <td>FRENCH LATTICE CUSHION COVER</td>\n",
       "      <td>20838</td>\n",
       "    </tr>\n",
       "    <tr>\n",
       "      <th>29965</th>\n",
       "      <td>FROSTED WHITE BASE</td>\n",
       "      <td>79403</td>\n",
       "    </tr>\n",
       "    <tr>\n",
       "      <th>305252</th>\n",
       "      <td>FROSTED WHITE BASE</td>\n",
       "      <td>79406</td>\n",
       "    </tr>\n",
       "    <tr>\n",
       "      <th>67991</th>\n",
       "      <td>METAL SIGN,CUPCAKE SINGLE HOOK</td>\n",
       "      <td>82613A</td>\n",
       "    </tr>\n",
       "    <tr>\n",
       "      <th>54389</th>\n",
       "      <td>METAL SIGN,CUPCAKE SINGLE HOOK</td>\n",
       "      <td>82613B</td>\n",
       "    </tr>\n",
       "    <tr>\n",
       "      <th>54391</th>\n",
       "      <td>METAL SIGN,CUPCAKE SINGLE HOOK</td>\n",
       "      <td>82613C</td>\n",
       "    </tr>\n",
       "    <tr>\n",
       "      <th>326012</th>\n",
       "      <td>PAPER LANTERN 9 POINT SNOW STAR</td>\n",
       "      <td>23040</td>\n",
       "    </tr>\n",
       "    <tr>\n",
       "      <th>177875</th>\n",
       "      <td>PAPER LANTERN 9 POINT SNOW STAR</td>\n",
       "      <td>23041</td>\n",
       "    </tr>\n",
       "    <tr>\n",
       "      <th>105582</th>\n",
       "      <td>PINK FAIRY CAKE CUSHION COVER</td>\n",
       "      <td>47585A</td>\n",
       "    </tr>\n",
       "    <tr>\n",
       "      <th>313776</th>\n",
       "      <td>PINK FAIRY CAKE CUSHION COVER</td>\n",
       "      <td>47586A</td>\n",
       "    </tr>\n",
       "    <tr>\n",
       "      <th>31713</th>\n",
       "      <td>PINK FLOCK GLASS CANDLEHOLDER</td>\n",
       "      <td>79329</td>\n",
       "    </tr>\n",
       "    <tr>\n",
       "      <th>148626</th>\n",
       "      <td>PINK FLOCK GLASS CANDLEHOLDER</td>\n",
       "      <td>79331</td>\n",
       "    </tr>\n",
       "    <tr>\n",
       "      <th>89682</th>\n",
       "      <td>PINK FLOWERS RABBIT EASTER</td>\n",
       "      <td>35909B</td>\n",
       "    </tr>\n",
       "    <tr>\n",
       "      <th>125020</th>\n",
       "      <td>PINK FLOWERS RABBIT EASTER</td>\n",
       "      <td>35910B</td>\n",
       "    </tr>\n",
       "    <tr>\n",
       "      <th>148634</th>\n",
       "      <td>RETRO PLASTIC 70'S TRAY</td>\n",
       "      <td>79190A</td>\n",
       "    </tr>\n",
       "    <tr>\n",
       "      <th>64593</th>\n",
       "      <td>RETRO PLASTIC 70'S TRAY</td>\n",
       "      <td>79192A</td>\n",
       "    </tr>\n",
       "    <tr>\n",
       "      <th>324940</th>\n",
       "      <td>RETRO PLASTIC DAISY TRAY</td>\n",
       "      <td>79190D</td>\n",
       "    </tr>\n",
       "    <tr>\n",
       "      <th>541686</th>\n",
       "      <td>RETRO PLASTIC DAISY TRAY</td>\n",
       "      <td>79191D</td>\n",
       "    </tr>\n",
       "    <tr>\n",
       "      <th>148632</th>\n",
       "      <td>RETRO PLASTIC POLKA TRAY</td>\n",
       "      <td>79190B</td>\n",
       "    </tr>\n",
       "    <tr>\n",
       "      <th>541189</th>\n",
       "      <td>RETRO PLASTIC POLKA TRAY</td>\n",
       "      <td>79191B</td>\n",
       "    </tr>\n",
       "    <tr>\n",
       "      <th>258187</th>\n",
       "      <td>ROUND BLUE CLOCK WITH SUCKER</td>\n",
       "      <td>81952B</td>\n",
       "    </tr>\n",
       "    <tr>\n",
       "      <th>261919</th>\n",
       "      <td>ROUND BLUE CLOCK WITH SUCKER</td>\n",
       "      <td>81953B</td>\n",
       "    </tr>\n",
       "    <tr>\n",
       "      <th>444722</th>\n",
       "      <td>SQUARE CHERRY BLOSSOM CABINET</td>\n",
       "      <td>84665</td>\n",
       "    </tr>\n",
       "    <tr>\n",
       "      <th>30554</th>\n",
       "      <td>SQUARE CHERRY BLOSSOM CABINET</td>\n",
       "      <td>84666</td>\n",
       "    </tr>\n",
       "    <tr>\n",
       "      <th>220211</th>\n",
       "      <td>STORAGE TIN VINTAGE LEAF</td>\n",
       "      <td>23235</td>\n",
       "    </tr>\n",
       "    <tr>\n",
       "      <th>220213</th>\n",
       "      <td>STORAGE TIN VINTAGE LEAF</td>\n",
       "      <td>23244</td>\n",
       "    </tr>\n",
       "    <tr>\n",
       "      <th>330913</th>\n",
       "      <td>WHITE BAMBOO RIBS LAMPSHADE</td>\n",
       "      <td>40001</td>\n",
       "    </tr>\n",
       "    <tr>\n",
       "      <th>75760</th>\n",
       "      <td>WHITE BAMBOO RIBS LAMPSHADE</td>\n",
       "      <td>40003</td>\n",
       "    </tr>\n",
       "  </tbody>\n",
       "</table>\n",
       "</div>"
      ],
      "text/plain": [
       "                            Description StockCode\n",
       "304808     COLOURING PENCILS BROWN TUBE     10133\n",
       "275427     COLOURING PENCILS BROWN TUBE     10135\n",
       "315707       COLUMBIAN CANDLE RECTANGLE     72131\n",
       "335760       COLUMBIAN CANDLE RECTANGLE     72133\n",
       "18185            COLUMBIAN CANDLE ROUND     72128\n",
       "18141            COLUMBIAN CANDLE ROUND     72130\n",
       "524992  EAU DE NILE JEWELLED PHOTOFRAME    85023B\n",
       "311833  EAU DE NILE JEWELLED PHOTOFRAME    85024B\n",
       "280880     FRENCH FLORAL CUSHION COVER      20837\n",
       "280882     FRENCH FLORAL CUSHION COVER      20840\n",
       "456195    FRENCH LATTICE CUSHION COVER      20835\n",
       "280881    FRENCH LATTICE CUSHION COVER      20838\n",
       "29965               FROSTED WHITE BASE      79403\n",
       "305252              FROSTED WHITE BASE      79406\n",
       "67991    METAL SIGN,CUPCAKE SINGLE HOOK    82613A\n",
       "54389    METAL SIGN,CUPCAKE SINGLE HOOK    82613B\n",
       "54391    METAL SIGN,CUPCAKE SINGLE HOOK    82613C\n",
       "326012  PAPER LANTERN 9 POINT SNOW STAR     23040\n",
       "177875  PAPER LANTERN 9 POINT SNOW STAR     23041\n",
       "105582    PINK FAIRY CAKE CUSHION COVER    47585A\n",
       "313776    PINK FAIRY CAKE CUSHION COVER    47586A\n",
       "31713     PINK FLOCK GLASS CANDLEHOLDER     79329\n",
       "148626    PINK FLOCK GLASS CANDLEHOLDER     79331\n",
       "89682        PINK FLOWERS RABBIT EASTER    35909B\n",
       "125020       PINK FLOWERS RABBIT EASTER    35910B\n",
       "148634          RETRO PLASTIC 70'S TRAY    79190A\n",
       "64593           RETRO PLASTIC 70'S TRAY    79192A\n",
       "324940         RETRO PLASTIC DAISY TRAY    79190D\n",
       "541686         RETRO PLASTIC DAISY TRAY    79191D\n",
       "148632         RETRO PLASTIC POLKA TRAY    79190B\n",
       "541189         RETRO PLASTIC POLKA TRAY    79191B\n",
       "258187     ROUND BLUE CLOCK WITH SUCKER    81952B\n",
       "261919     ROUND BLUE CLOCK WITH SUCKER    81953B\n",
       "444722    SQUARE CHERRY BLOSSOM CABINET     84665\n",
       "30554     SQUARE CHERRY BLOSSOM CABINET     84666\n",
       "220211         STORAGE TIN VINTAGE LEAF     23235\n",
       "220213         STORAGE TIN VINTAGE LEAF     23244\n",
       "330913      WHITE BAMBOO RIBS LAMPSHADE     40001\n",
       "75760       WHITE BAMBOO RIBS LAMPSHADE     40003"
      ]
     },
     "execution_count": 49,
     "metadata": {},
     "output_type": "execute_result"
    }
   ],
   "source": [
    "# how many descriptions map to >1 stockcode\n",
    "desc_to_sku = new_df.groupby('Description')['StockCode'].nunique()\n",
    "(desc_to_sku > 1).sum(), desc_to_sku[desc_to_sku>1].head(10)\n",
    "\n",
    "# how many stockcodes map to >1 description\n",
    "sku_to_desc = new_df.groupby('StockCode')['Description'].nunique()\n",
    "(sku_to_desc > 1).sum(), sku_to_desc[sku_to_desc>1].head(10)\n",
    "\n",
    "# show example pairs for a problematic description\n",
    "bad_descs = desc_to_sku[desc_to_sku>1].index[:20]\n",
    "new_df[new_df['Description'].isin(bad_descs)][['Description','StockCode']].drop_duplicates().sort_values(['Description','StockCode']).head(50)"
   ]
  },
  {
   "cell_type": "code",
   "execution_count": 50,
   "id": "3412a72b-37b8-4a12-ac7b-dffbb4bb52c1",
   "metadata": {},
   "outputs": [
    {
     "data": {
      "text/plain": [
       "StockCode  Description                        \n",
       "20622      VIP PASSPORT COVER                     1\n",
       "           VIPPASSPORT COVER                      1\n",
       "20725      LUNCH BAG RED RETROSPOT                1\n",
       "           LUNCH BAG RED SPOTTY                   1\n",
       "20914      SET/5 RED RETROSPOT LID GLASS BOWLS    1\n",
       "           SET/5 RED SPOTTY LID GLASS BOWLS       1\n",
       "21109      LARGE CAKE TOWEL CHOCOLATE SPOTS       1\n",
       "           LARGE CAKE TOWEL, CHOCOLATE SPOTS      1\n",
       "21112      SWISS ROLL TOWEL PINK  SPOTS           1\n",
       "           SWISS ROLL TOWEL, PINK  SPOTS          1\n",
       "21175      GIN + TONIC DIET METAL SIGN            1\n",
       "           GIN AND TONIC DIET METAL SIGN          1\n",
       "21232      STRAWBERRY CERAMIC TRINKET BOX         1\n",
       "           STRAWBERRY CERAMIC TRINKET POT         1\n",
       "21243      PINK  POLKADOT PLATE                   1\n",
       "           PINK POLKADOT PLATE                    1\n",
       "21507      ELEPHANT BIRTHDAY CARD                 1\n",
       "           ELEPHANT, BIRTHDAY CARD,               1\n",
       "21811      CHRISTMAS HANGING HEART WITH BELL      1\n",
       "           HANGING HEART WITH BELL                1\n",
       "21818      GLITTER CHRISTMAS HEART                1\n",
       "           GLITTER HEART DECORATION               1\n",
       "21899      GARAGE KEY FOB                         1\n",
       "           KEY FOB , GARAGE DESIGN                1\n",
       "21928      JUMBO BAG SCANDINAVIAN BLUE PAISLEY    1\n",
       "           JUMBO BAG SCANDINAVIAN PAISLEY         1\n",
       "22129      PARTY CONES CANDY DECORATION           1\n",
       "           PARTY CONES CANDY TREE DECORATION      1\n",
       "22134      LADLE LOVE HEART RED                   1\n",
       "           MINI LADLE LOVE HEART RED              1\n",
       "22135      LADLE LOVE HEART PINK                  1\n",
       "           MINI LADLE LOVE HEART PINK             1\n",
       "22179      SET 10 LIGHTS NIGHT OWL                1\n",
       "           SET 10 NIGHT OWL LIGHTS                1\n",
       "22197      POPCORN HOLDER                         1\n",
       "           SMALL POPCORN HOLDER                   1\n",
       "22199      FRYING PAN RED POLKADOT                1\n",
       "           FRYING PAN RED RETROSPOT               1\n",
       "22246      GARLAND, MAGIC GARDEN 1.8M             1\n",
       "           MAGIC GARDEN FELT GARLAND              1\n",
       "Name: count, dtype: int64"
      ]
     },
     "execution_count": 50,
     "metadata": {},
     "output_type": "execute_result"
    }
   ],
   "source": [
    "# show example descriptions for particular stockcodes\n",
    "bad_skus = sku_to_desc[sku_to_desc>1].index[:20]\n",
    "new_df[new_df['StockCode'].isin(bad_skus)][['StockCode','Description']].drop_duplicates().sort_values(['StockCode','Description']).value_counts()"
   ]
  },
  {
   "cell_type": "code",
   "execution_count": 51,
   "id": "912683c8-a9b2-48c3-8198-e86fde5f4c50",
   "metadata": {},
   "outputs": [],
   "source": [
    "import re "
   ]
  },
  {
   "cell_type": "code",
   "execution_count": 52,
   "id": "40976d2d-276e-4798-994f-f35542200baf",
   "metadata": {},
   "outputs": [],
   "source": [
    "def clean_description(text):\n",
    "    if pd.isna(text):\n",
    "        return \"\"\n",
    "    text = text.lower()                # lowercase\n",
    "    text = text.strip()                # remove leading/trailing spaces\n",
    "    text = re.sub(r'[^\\w\\s]', '', text) # remove punctuation\n",
    "    text = re.sub(r'\\s+', ' ', text)    # collapse multiple spaces\n",
    "    return text"
   ]
  },
  {
   "cell_type": "code",
   "execution_count": 53,
   "id": "84e81407-ee14-4dd2-af69-47862a2f2a9c",
   "metadata": {},
   "outputs": [],
   "source": [
    "new_df['Cleaned_desc']=new_df['Description'].apply(clean_description)\n"
   ]
  },
  {
   "cell_type": "code",
   "execution_count": 54,
   "id": "a561fbdc-2622-46a3-9a08-bfa65e89c80d",
   "metadata": {},
   "outputs": [
    {
     "data": {
      "text/plain": [
       "3877"
      ]
     },
     "execution_count": 54,
     "metadata": {},
     "output_type": "execute_result"
    }
   ],
   "source": [
    "new_df['Description'].nunique()"
   ]
  },
  {
   "cell_type": "code",
   "execution_count": 55,
   "id": "ae8466b3-2636-45a2-b718-0d1c9cf5341f",
   "metadata": {},
   "outputs": [
    {
     "data": {
      "text/plain": [
       "3845"
      ]
     },
     "execution_count": 55,
     "metadata": {},
     "output_type": "execute_result"
    }
   ],
   "source": [
    "new_df['Cleaned_desc'].nunique()"
   ]
  },
  {
   "cell_type": "code",
   "execution_count": 56,
   "id": "53c2bfa2-eaeb-4dee-848f-cd50d80bf646",
   "metadata": {},
   "outputs": [
    {
     "data": {
      "text/html": [
       "<div>\n",
       "<style scoped>\n",
       "    .dataframe tbody tr th:only-of-type {\n",
       "        vertical-align: middle;\n",
       "    }\n",
       "\n",
       "    .dataframe tbody tr th {\n",
       "        vertical-align: top;\n",
       "    }\n",
       "\n",
       "    .dataframe thead th {\n",
       "        text-align: right;\n",
       "    }\n",
       "</style>\n",
       "<table border=\"1\" class=\"dataframe\">\n",
       "  <thead>\n",
       "    <tr style=\"text-align: right;\">\n",
       "      <th></th>\n",
       "      <th>Cleaned_desc</th>\n",
       "      <th>StockCode</th>\n",
       "    </tr>\n",
       "  </thead>\n",
       "  <tbody>\n",
       "  </tbody>\n",
       "</table>\n",
       "</div>"
      ],
      "text/plain": [
       "Empty DataFrame\n",
       "Columns: [Cleaned_desc, StockCode]\n",
       "Index: []"
      ]
     },
     "execution_count": 56,
     "metadata": {},
     "output_type": "execute_result"
    }
   ],
   "source": [
    "# how many descriptions map to >1 stockcode\n",
    "desc_to_sku2 = new_df.groupby('Cleaned_desc')['StockCode'].nunique()\n",
    "(desc_to_sku2> 1).sum(), desc_to_sku2[desc_to_sku2>1].head(10)\n",
    "\n",
    "# how many stockcodes map to >1 description\n",
    "sku_to_desc2 = new_df.groupby('StockCode')['Cleaned_desc'].nunique()\n",
    "(sku_to_desc2 > 1).sum(), sku_to_desc2[sku_to_desc2>1].head(10)\n",
    "\n",
    "# show example pairs for a problematic description\n",
    "bad_descs2 = desc_to_sku2[desc_to_sku2>1].index[:20]\n",
    "new_df[new_df['Cleaned_desc'].isin(bad_descs)][['Cleaned_desc','StockCode']].drop_duplicates().sort_values(['Cleaned_desc','StockCode']).head(50)"
   ]
  },
  {
   "cell_type": "code",
   "execution_count": 57,
   "id": "47ee09a3-f880-4306-9169-42555a10ea4f",
   "metadata": {},
   "outputs": [
    {
     "data": {
      "text/plain": [
       "StockCode  Cleaned_desc                       \n",
       "20622      vip passport cover                     1\n",
       "           vippassport cover                      1\n",
       "20725      lunch bag red retrospot                1\n",
       "           lunch bag red spotty                   1\n",
       "20914      set5 red retrospot lid glass bowls     1\n",
       "           set5 red spotty lid glass bowls        1\n",
       "21175      gin and tonic diet metal sign          1\n",
       "           gin tonic diet metal sign              1\n",
       "21232      strawberry ceramic trinket box         1\n",
       "           strawberry ceramic trinket pot         1\n",
       "21811      christmas hanging heart with bell      1\n",
       "           hanging heart with bell                1\n",
       "21818      glitter christmas heart                1\n",
       "           glitter heart decoration               1\n",
       "21899      garage key fob                         1\n",
       "           key fob garage design                  1\n",
       "21928      jumbo bag scandinavian blue paisley    1\n",
       "           jumbo bag scandinavian paisley         1\n",
       "22129      party cones candy decoration           1\n",
       "           party cones candy tree decoration      1\n",
       "22134      ladle love heart red                   1\n",
       "           mini ladle love heart red              1\n",
       "22135      ladle love heart pink                  1\n",
       "           mini ladle love heart pink             1\n",
       "22179      set 10 lights night owl                1\n",
       "           set 10 night owl lights                1\n",
       "22197      popcorn holder                         1\n",
       "           small popcorn holder                   1\n",
       "22199      frying pan red polkadot                1\n",
       "           frying pan red retrospot               1\n",
       "22246      garland magic garden 18m               1\n",
       "           magic garden felt garland              1\n",
       "22268      decoration sitting bunny               1\n",
       "           easter decoration sitting bunny        1\n",
       "22285      decoration hen on nest hanging         1\n",
       "           hanging hen on nest decoration         1\n",
       "22287      decoration wobbly chicken              1\n",
       "           decoration wobbly chicken metal        1\n",
       "22407      money box first ade design             1\n",
       "           money box first aid design             1\n",
       "Name: count, dtype: int64"
      ]
     },
     "execution_count": 57,
     "metadata": {},
     "output_type": "execute_result"
    }
   ],
   "source": [
    "# show example descriptions for particular stockcodes\n",
    "bad_skus2 = sku_to_desc2[sku_to_desc2>1].index[:20]\n",
    "new_df[new_df['StockCode'].isin(bad_skus2)][['StockCode','Cleaned_desc']].drop_duplicates().sort_values(['StockCode','Cleaned_desc']).value_counts()"
   ]
  },
  {
   "cell_type": "code",
   "execution_count": 58,
   "id": "72b0b3ed-b9eb-4f1e-a80a-2235a0f930f7",
   "metadata": {},
   "outputs": [],
   "source": [
    "invoice_per_country=(new_df.groupby('Country')['InvoiceNo'].nunique().sort_values(ascending=True))"
   ]
  },
  {
   "cell_type": "code",
   "execution_count": 59,
   "id": "15489bfd-2a73-4246-8303-6cf50c98462f",
   "metadata": {},
   "outputs": [
    {
     "data": {
      "text/plain": [
       "Country\n",
       "Brazil                      1\n",
       "Saudi Arabia                1\n",
       "RSA                         1\n",
       "Lebanon                     1\n",
       "Czech Republic              2\n",
       "Bahrain                     2\n",
       "United Arab Emirates        3\n",
       "Lithuania                   4\n",
       "European Community          4\n",
       "Greece                      5\n",
       "Malta                       5\n",
       "Israel                      5\n",
       "USA                         5\n",
       "Canada                      6\n",
       "Singapore                   7\n",
       "Iceland                     7\n",
       "Unspecified                 8\n",
       "Cyprus                     16\n",
       "Austria                    17\n",
       "Denmark                    18\n",
       "Poland                     19\n",
       "Japan                      19\n",
       "Channel Islands            26\n",
       "Sweden                     36\n",
       "Norway                     36\n",
       "Italy                      38\n",
       "Finland                    41\n",
       "Switzerland                51\n",
       "Australia                  57\n",
       "Portugal                   57\n",
       "Spain                      90\n",
       "Netherlands                95\n",
       "Belgium                    98\n",
       "EIRE                      260\n",
       "France                    389\n",
       "Germany                   457\n",
       "United Kingdom          16649\n",
       "Name: InvoiceNo, dtype: int64"
      ]
     },
     "execution_count": 59,
     "metadata": {},
     "output_type": "execute_result"
    }
   ],
   "source": [
    "invoice_per_country"
   ]
  },
  {
   "cell_type": "code",
   "execution_count": 60,
   "id": "1a20df4e-b1e4-4b11-a1e5-63b5cc5b1bf8",
   "metadata": {},
   "outputs": [],
   "source": [
    "new_df['Country']=new_df['Country'].apply(lambda x: \"Others\" if invoice_per_country[x]<30 else x)"
   ]
  },
  {
   "cell_type": "code",
   "execution_count": 61,
   "id": "4298105f-e47d-45e6-bf30-60ff47895b3c",
   "metadata": {},
   "outputs": [
    {
     "data": {
      "text/plain": [
       "Country\n",
       "United Kingdom    354345\n",
       "Germany             9042\n",
       "France              8342\n",
       "EIRE                7238\n",
       "Others              4623\n",
       "Spain               2485\n",
       "Netherlands         2363\n",
       "Belgium             2031\n",
       "Switzerland         1842\n",
       "Portugal            1462\n",
       "Australia           1185\n",
       "Norway              1072\n",
       "Italy                758\n",
       "Finland              685\n",
       "Sweden               451\n",
       "Name: count, dtype: int64"
      ]
     },
     "execution_count": 61,
     "metadata": {},
     "output_type": "execute_result"
    }
   ],
   "source": [
    "new_df['Country'].value_counts()"
   ]
  },
  {
   "cell_type": "code",
   "execution_count": 62,
   "id": "9a566cc7-689a-42f6-948c-3ab23b210776",
   "metadata": {},
   "outputs": [
    {
     "data": {
      "text/html": [
       "<div>\n",
       "<style scoped>\n",
       "    .dataframe tbody tr th:only-of-type {\n",
       "        vertical-align: middle;\n",
       "    }\n",
       "\n",
       "    .dataframe tbody tr th {\n",
       "        vertical-align: top;\n",
       "    }\n",
       "\n",
       "    .dataframe thead th {\n",
       "        text-align: right;\n",
       "    }\n",
       "</style>\n",
       "<table border=\"1\" class=\"dataframe\">\n",
       "  <thead>\n",
       "    <tr style=\"text-align: right;\">\n",
       "      <th></th>\n",
       "      <th>InvoiceNo</th>\n",
       "      <th>StockCode</th>\n",
       "      <th>Description</th>\n",
       "      <th>Quantity</th>\n",
       "      <th>InvoiceDate</th>\n",
       "      <th>UnitPrice</th>\n",
       "      <th>CustomerID</th>\n",
       "      <th>Country</th>\n",
       "      <th>Cleaned_desc</th>\n",
       "    </tr>\n",
       "  </thead>\n",
       "  <tbody>\n",
       "    <tr>\n",
       "      <th>61619</th>\n",
       "      <td>541431</td>\n",
       "      <td>23166</td>\n",
       "      <td>MEDIUM CERAMIC TOP STORAGE JAR</td>\n",
       "      <td>74215</td>\n",
       "      <td>2011-01-18 10:01:00</td>\n",
       "      <td>1.04</td>\n",
       "      <td>12346.0</td>\n",
       "      <td>United Kingdom</td>\n",
       "      <td>medium ceramic top storage jar</td>\n",
       "    </tr>\n",
       "    <tr>\n",
       "      <th>14938</th>\n",
       "      <td>537626</td>\n",
       "      <td>85116</td>\n",
       "      <td>BLACK CANDELABRA T-LIGHT HOLDER</td>\n",
       "      <td>12</td>\n",
       "      <td>2010-12-07 14:57:00</td>\n",
       "      <td>2.10</td>\n",
       "      <td>12347.0</td>\n",
       "      <td>Others</td>\n",
       "      <td>black candelabra tlight holder</td>\n",
       "    </tr>\n",
       "    <tr>\n",
       "      <th>14939</th>\n",
       "      <td>537626</td>\n",
       "      <td>22375</td>\n",
       "      <td>AIRLINE BAG VINTAGE JET SET BROWN</td>\n",
       "      <td>4</td>\n",
       "      <td>2010-12-07 14:57:00</td>\n",
       "      <td>4.25</td>\n",
       "      <td>12347.0</td>\n",
       "      <td>Others</td>\n",
       "      <td>airline bag vintage jet set brown</td>\n",
       "    </tr>\n",
       "    <tr>\n",
       "      <th>14940</th>\n",
       "      <td>537626</td>\n",
       "      <td>71477</td>\n",
       "      <td>COLOUR GLASS. STAR T-LIGHT HOLDER</td>\n",
       "      <td>12</td>\n",
       "      <td>2010-12-07 14:57:00</td>\n",
       "      <td>3.25</td>\n",
       "      <td>12347.0</td>\n",
       "      <td>Others</td>\n",
       "      <td>colour glass star tlight holder</td>\n",
       "    </tr>\n",
       "    <tr>\n",
       "      <th>14941</th>\n",
       "      <td>537626</td>\n",
       "      <td>22492</td>\n",
       "      <td>MINI PAINT SET VINTAGE</td>\n",
       "      <td>36</td>\n",
       "      <td>2010-12-07 14:57:00</td>\n",
       "      <td>0.65</td>\n",
       "      <td>12347.0</td>\n",
       "      <td>Others</td>\n",
       "      <td>mini paint set vintage</td>\n",
       "    </tr>\n",
       "  </tbody>\n",
       "</table>\n",
       "</div>"
      ],
      "text/plain": [
       "      InvoiceNo StockCode                        Description  Quantity  \\\n",
       "61619    541431     23166     MEDIUM CERAMIC TOP STORAGE JAR     74215   \n",
       "14938    537626     85116    BLACK CANDELABRA T-LIGHT HOLDER        12   \n",
       "14939    537626     22375  AIRLINE BAG VINTAGE JET SET BROWN         4   \n",
       "14940    537626     71477  COLOUR GLASS. STAR T-LIGHT HOLDER        12   \n",
       "14941    537626     22492            MINI PAINT SET VINTAGE         36   \n",
       "\n",
       "              InvoiceDate  UnitPrice  CustomerID         Country  \\\n",
       "61619 2011-01-18 10:01:00       1.04     12346.0  United Kingdom   \n",
       "14938 2010-12-07 14:57:00       2.10     12347.0          Others   \n",
       "14939 2010-12-07 14:57:00       4.25     12347.0          Others   \n",
       "14940 2010-12-07 14:57:00       3.25     12347.0          Others   \n",
       "14941 2010-12-07 14:57:00       0.65     12347.0          Others   \n",
       "\n",
       "                            Cleaned_desc  \n",
       "61619     medium ceramic top storage jar  \n",
       "14938     black candelabra tlight holder  \n",
       "14939  airline bag vintage jet set brown  \n",
       "14940    colour glass star tlight holder  \n",
       "14941             mini paint set vintage  "
      ]
     },
     "execution_count": 62,
     "metadata": {},
     "output_type": "execute_result"
    }
   ],
   "source": [
    "new_df.head()"
   ]
  },
  {
   "cell_type": "code",
   "execution_count": 63,
   "id": "d4828f78-ebd9-4d0d-8759-2d6bbc1989bb",
   "metadata": {},
   "outputs": [
    {
     "data": {
      "text/plain": [
       "Cleaned_desc\n",
       "white hanging heart tlight holder     1971\n",
       "regency cakestand 3 tier              1704\n",
       "jumbo bag red retrospot               1600\n",
       "party bunting                         1380\n",
       "assorted colour bird ornament         1375\n",
       "                                      ... \n",
       "pink polkadot plate                    148\n",
       "make your own flowerpower card kit     148\n",
       "zinc tlight holder star large          148\n",
       "mini cake stand with hanging cakes     148\n",
       "cream sweetheart egg holder            147\n",
       "Name: InvoiceNo, Length: 800, dtype: int64"
      ]
     },
     "execution_count": 63,
     "metadata": {},
     "output_type": "execute_result"
    }
   ],
   "source": [
    "top_by_orders = new_df.groupby('Cleaned_desc')['InvoiceNo'].nunique().sort_values(ascending=False)\n",
    "top_by_orders.head(800)"
   ]
  },
  {
   "cell_type": "code",
   "execution_count": 64,
   "id": "923dff5f-6e51-4781-a003-860900be7f43",
   "metadata": {},
   "outputs": [],
   "source": [
    "global_popular=top_by_orders.head(200)"
   ]
  },
  {
   "cell_type": "code",
   "execution_count": 65,
   "id": "715050cb-dfeb-45d9-81b3-1af7fe20a86e",
   "metadata": {},
   "outputs": [
    {
     "data": {
      "text/plain": [
       "Cleaned_desc\n",
       "white hanging heart tlight holder    1971\n",
       "regency cakestand 3 tier             1704\n",
       "jumbo bag red retrospot              1600\n",
       "party bunting                        1380\n",
       "assorted colour bird ornament        1375\n",
       "                                     ... \n",
       "white wood garden plant ladder        379\n",
       "edwardian parasol natural             378\n",
       "feltcraft princess lola doll          378\n",
       "white skull hot water bottle          378\n",
       "pantry magnetic shopping list         374\n",
       "Name: InvoiceNo, Length: 200, dtype: int64"
      ]
     },
     "execution_count": 65,
     "metadata": {},
     "output_type": "execute_result"
    }
   ],
   "source": [
    "global_popular"
   ]
  },
  {
   "cell_type": "code",
   "execution_count": 66,
   "id": "108e5b18-213c-4598-80db-b0b0ba68d9d1",
   "metadata": {},
   "outputs": [
    {
     "data": {
      "text/plain": [
       "Cleaned_desc\n",
       "10 colour spaceboy pen              1.305568\n",
       "12 coloured party balloons          0.749892\n",
       "12 daisy pegs in wood box           0.334484\n",
       "12 egg house painted wood           0.345274\n",
       "12 hanging eggs hand painted        0.037764\n",
       "                                      ...   \n",
       "zinc tlight holder stars small      1.278593\n",
       "zinc top 2 door wooden shelf        0.048554\n",
       "zinc willie winkie candle stick     1.014243\n",
       "zinc wire kitchen organiser         0.064739\n",
       "zinc wire sweetheart letter tray    0.107898\n",
       "Name: InvoiceNo, Length: 3845, dtype: float64"
      ]
     },
     "execution_count": 66,
     "metadata": {},
     "output_type": "execute_result"
    }
   ],
   "source": [
    "# Calculate the purchase frequency of each item as a percentage of total invoices\n",
    "purchase_freq = (new_df.groupby('Cleaned_desc')['InvoiceNo'].nunique() / new_df['InvoiceNo'].nunique()) * 100\n",
    "\n",
    "purchase_freq"
   ]
  },
  {
   "cell_type": "code",
   "execution_count": 67,
   "id": "493a2576-ef7b-4de3-9129-de1efb07f54d",
   "metadata": {},
   "outputs": [],
   "source": [
    "# Filter this series to get only the items that appear in 5% or more of the invoices\n",
    "frequently_bought = purchase_freq[purchase_freq >= 5]"
   ]
  },
  {
   "cell_type": "code",
   "execution_count": 68,
   "id": "e77ba5eb-94d5-4e09-9f1c-62ecbf7aaeba",
   "metadata": {},
   "outputs": [
    {
     "data": {
      "text/plain": [
       "Cleaned_desc\n",
       "assorted colour bird ornament         7.417997\n",
       "heart of wicker small                 5.184506\n",
       "jumbo bag red retrospot               8.631852\n",
       "lunch bag black skull                 5.675442\n",
       "lunch bag cars blue                   5.211480\n",
       "lunch bag pink polkadot               5.022659\n",
       "lunch bag red retrospot               6.948640\n",
       "lunch bag spaceboy design             5.330168\n",
       "lunch bag suki design                 5.626888\n",
       "natural slate heart chalkboard        5.216875\n",
       "pack of 72 retrospot cake cases       5.551360\n",
       "paper chain kit 50s christmas         5.287009\n",
       "party bunting                         7.444972\n",
       "postage                               5.929003\n",
       "regency cakestand 3 tier              9.192922\n",
       "set of 3 cake tins pantry design      6.182564\n",
       "spotty bunting                        5.411092\n",
       "white hanging heart tlight holder    10.633362\n",
       "Name: InvoiceNo, dtype: float64"
      ]
     },
     "execution_count": 68,
     "metadata": {},
     "output_type": "execute_result"
    }
   ],
   "source": [
    "frequently_bought"
   ]
  },
  {
   "cell_type": "code",
   "execution_count": 69,
   "id": "bbe6f0b8-d695-42f4-9a56-053adf029315",
   "metadata": {},
   "outputs": [
    {
     "data": {
      "text/plain": [
       "Index(['assorted colour bird ornament', 'heart of wicker small',\n",
       "       'jumbo bag red retrospot', 'lunch bag black skull',\n",
       "       'lunch bag cars blue', 'lunch bag pink polkadot',\n",
       "       'lunch bag red retrospot', 'lunch bag spaceboy design',\n",
       "       'lunch bag suki design', 'natural slate heart chalkboard',\n",
       "       'pack of 72 retrospot cake cases', 'paper chain kit 50s christmas',\n",
       "       'party bunting', 'postage', 'regency cakestand 3 tier',\n",
       "       'set of 3 cake tins pantry design', 'spotty bunting',\n",
       "       'white hanging heart tlight holder'],\n",
       "      dtype='object', name='Cleaned_desc')"
      ]
     },
     "execution_count": 69,
     "metadata": {},
     "output_type": "execute_result"
    }
   ],
   "source": [
    "frequent_item_names=frequently_bought.index\n",
    "frequent_item_names"
   ]
  },
  {
   "cell_type": "code",
   "execution_count": 70,
   "id": "2c04aaea-eff2-4361-915d-e06dde3d237a",
   "metadata": {},
   "outputs": [
    {
     "data": {
      "text/plain": [
       "(397924, 9)"
      ]
     },
     "execution_count": 70,
     "metadata": {},
     "output_type": "execute_result"
    }
   ],
   "source": [
    "new_df.shape"
   ]
  },
  {
   "cell_type": "code",
   "execution_count": 71,
   "id": "1aa78479-a27d-4c84-a53d-88465a03b025",
   "metadata": {},
   "outputs": [
    {
     "data": {
      "text/html": [
       "<div>\n",
       "<style scoped>\n",
       "    .dataframe tbody tr th:only-of-type {\n",
       "        vertical-align: middle;\n",
       "    }\n",
       "\n",
       "    .dataframe tbody tr th {\n",
       "        vertical-align: top;\n",
       "    }\n",
       "\n",
       "    .dataframe thead th {\n",
       "        text-align: right;\n",
       "    }\n",
       "</style>\n",
       "<table border=\"1\" class=\"dataframe\">\n",
       "  <thead>\n",
       "    <tr style=\"text-align: right;\">\n",
       "      <th></th>\n",
       "      <th>InvoiceNo</th>\n",
       "      <th>StockCode</th>\n",
       "      <th>Description</th>\n",
       "      <th>Quantity</th>\n",
       "      <th>InvoiceDate</th>\n",
       "      <th>UnitPrice</th>\n",
       "      <th>CustomerID</th>\n",
       "      <th>Country</th>\n",
       "      <th>Cleaned_desc</th>\n",
       "    </tr>\n",
       "  </thead>\n",
       "  <tbody>\n",
       "    <tr>\n",
       "      <th>61619</th>\n",
       "      <td>541431</td>\n",
       "      <td>23166</td>\n",
       "      <td>MEDIUM CERAMIC TOP STORAGE JAR</td>\n",
       "      <td>74215</td>\n",
       "      <td>2011-01-18 10:01:00</td>\n",
       "      <td>1.04</td>\n",
       "      <td>12346.0</td>\n",
       "      <td>United Kingdom</td>\n",
       "      <td>medium ceramic top storage jar</td>\n",
       "    </tr>\n",
       "    <tr>\n",
       "      <th>14938</th>\n",
       "      <td>537626</td>\n",
       "      <td>85116</td>\n",
       "      <td>BLACK CANDELABRA T-LIGHT HOLDER</td>\n",
       "      <td>12</td>\n",
       "      <td>2010-12-07 14:57:00</td>\n",
       "      <td>2.10</td>\n",
       "      <td>12347.0</td>\n",
       "      <td>Others</td>\n",
       "      <td>black candelabra tlight holder</td>\n",
       "    </tr>\n",
       "    <tr>\n",
       "      <th>14939</th>\n",
       "      <td>537626</td>\n",
       "      <td>22375</td>\n",
       "      <td>AIRLINE BAG VINTAGE JET SET BROWN</td>\n",
       "      <td>4</td>\n",
       "      <td>2010-12-07 14:57:00</td>\n",
       "      <td>4.25</td>\n",
       "      <td>12347.0</td>\n",
       "      <td>Others</td>\n",
       "      <td>airline bag vintage jet set brown</td>\n",
       "    </tr>\n",
       "    <tr>\n",
       "      <th>14940</th>\n",
       "      <td>537626</td>\n",
       "      <td>71477</td>\n",
       "      <td>COLOUR GLASS. STAR T-LIGHT HOLDER</td>\n",
       "      <td>12</td>\n",
       "      <td>2010-12-07 14:57:00</td>\n",
       "      <td>3.25</td>\n",
       "      <td>12347.0</td>\n",
       "      <td>Others</td>\n",
       "      <td>colour glass star tlight holder</td>\n",
       "    </tr>\n",
       "    <tr>\n",
       "      <th>14941</th>\n",
       "      <td>537626</td>\n",
       "      <td>22492</td>\n",
       "      <td>MINI PAINT SET VINTAGE</td>\n",
       "      <td>36</td>\n",
       "      <td>2010-12-07 14:57:00</td>\n",
       "      <td>0.65</td>\n",
       "      <td>12347.0</td>\n",
       "      <td>Others</td>\n",
       "      <td>mini paint set vintage</td>\n",
       "    </tr>\n",
       "  </tbody>\n",
       "</table>\n",
       "</div>"
      ],
      "text/plain": [
       "      InvoiceNo StockCode                        Description  Quantity  \\\n",
       "61619    541431     23166     MEDIUM CERAMIC TOP STORAGE JAR     74215   \n",
       "14938    537626     85116    BLACK CANDELABRA T-LIGHT HOLDER        12   \n",
       "14939    537626     22375  AIRLINE BAG VINTAGE JET SET BROWN         4   \n",
       "14940    537626     71477  COLOUR GLASS. STAR T-LIGHT HOLDER        12   \n",
       "14941    537626     22492            MINI PAINT SET VINTAGE         36   \n",
       "\n",
       "              InvoiceDate  UnitPrice  CustomerID         Country  \\\n",
       "61619 2011-01-18 10:01:00       1.04     12346.0  United Kingdom   \n",
       "14938 2010-12-07 14:57:00       2.10     12347.0          Others   \n",
       "14939 2010-12-07 14:57:00       4.25     12347.0          Others   \n",
       "14940 2010-12-07 14:57:00       3.25     12347.0          Others   \n",
       "14941 2010-12-07 14:57:00       0.65     12347.0          Others   \n",
       "\n",
       "                            Cleaned_desc  \n",
       "61619     medium ceramic top storage jar  \n",
       "14938     black candelabra tlight holder  \n",
       "14939  airline bag vintage jet set brown  \n",
       "14940    colour glass star tlight holder  \n",
       "14941             mini paint set vintage  "
      ]
     },
     "execution_count": 71,
     "metadata": {},
     "output_type": "execute_result"
    }
   ],
   "source": [
    "new_df.head()"
   ]
  },
  {
   "cell_type": "code",
   "execution_count": 72,
   "id": "a7cc5266-57c6-426d-90f8-801b8168e9bd",
   "metadata": {},
   "outputs": [],
   "source": [
    "transactions=new_df.groupby('InvoiceNo')['Cleaned_desc'].apply(set).tolist()"
   ]
  },
  {
   "cell_type": "code",
   "execution_count": 85,
   "id": "b0388157-b643-4970-b4f7-e0fdde48174f",
   "metadata": {},
   "outputs": [
    {
     "data": {
      "text/plain": [
       "Cleaned_desc\n",
       "white hanging heart tlight holder     1971\n",
       "regency cakestand 3 tier              1704\n",
       "jumbo bag red retrospot               1600\n",
       "party bunting                         1380\n",
       "assorted colour bird ornament         1375\n",
       "                                      ... \n",
       "pink polkadot plate                    148\n",
       "make your own flowerpower card kit     148\n",
       "zinc tlight holder star large          148\n",
       "mini cake stand with hanging cakes     148\n",
       "cream sweetheart egg holder            147\n",
       "Name: InvoiceNo, Length: 800, dtype: int64"
      ]
     },
     "execution_count": 85,
     "metadata": {},
     "output_type": "execute_result"
    }
   ],
   "source": [
    "item_counts=(new_df.groupby('Cleaned_desc')['InvoiceNo'].nunique()).sort_values(ascending=False)\n",
    "item_counts.head(800)"
   ]
  },
  {
   "cell_type": "code",
   "execution_count": 79,
   "id": "f9778ffa-68be-4568-8b9d-48b979f1b6a2",
   "metadata": {},
   "outputs": [
    {
     "data": {
      "text/plain": [
       "3845"
      ]
     },
     "execution_count": 79,
     "metadata": {},
     "output_type": "execute_result"
    }
   ],
   "source": [
    "len(item_counts)"
   ]
  },
  {
   "cell_type": "code",
   "execution_count": 86,
   "id": "619e2776-1569-4d20-ab2b-478f417f26cf",
   "metadata": {},
   "outputs": [
    {
     "data": {
      "text/plain": [
       "1174"
      ]
     },
     "execution_count": 86,
     "metadata": {},
     "output_type": "execute_result"
    }
   ],
   "source": [
    "top_100_item_counts=[item for item, count in item_counts.items() if count >= 100]\n",
    "len(top_100_item_counts)"
   ]
  },
  {
   "cell_type": "code",
   "execution_count": 87,
   "id": "54471a90-8236-4515-95f2-e7d6c1585917",
   "metadata": {},
   "outputs": [
    {
     "data": {
      "text/plain": [
       "1174"
      ]
     },
     "execution_count": 87,
     "metadata": {},
     "output_type": "execute_result"
    }
   ],
   "source": [
    "top_100_item_counts_2=[(item,count) for item, count in item_counts.items() if count >= 100]\n",
    "len(top_100_item_counts_2)"
   ]
  },
  {
   "cell_type": "code",
   "execution_count": 77,
   "id": "df9e1b6a-9a0e-4d1f-a637-099428e6ac34",
   "metadata": {},
   "outputs": [
    {
     "data": {
      "text/plain": [
       "1166"
      ]
     },
     "execution_count": 77,
     "metadata": {},
     "output_type": "execute_result"
    }
   ],
   "source": [
    "item_counts_above_100 = [item for item, count in item_counts.items() if count > 100]\n",
    "len(item_counts_above_100)"
   ]
  },
  {
   "cell_type": "code",
   "execution_count": 78,
   "id": "b9256c3e-eac6-4f95-9d79-429942364698",
   "metadata": {},
   "outputs": [
    {
     "data": {
      "text/plain": [
       "1166"
      ]
     },
     "execution_count": 78,
     "metadata": {},
     "output_type": "execute_result"
    }
   ],
   "source": [
    "item_counts_above_100_2 = [(item,count) for item, count in item_counts.items() if count > 100]\n",
    "len(item_counts_above_100_2)"
   ]
  },
  {
   "cell_type": "code",
   "execution_count": 79,
   "id": "6993d595-d8e6-479e-8cd3-14e4fbbcd246",
   "metadata": {},
   "outputs": [
    {
     "data": {
      "text/plain": [
       "1166"
      ]
     },
     "execution_count": 79,
     "metadata": {},
     "output_type": "execute_result"
    }
   ],
   "source": [
    "sorted_items = [i for i in item_counts.sort_values(ascending=False).index if i in item_counts_above_100]\n",
    "len(sorted_items)"
   ]
  },
  {
   "cell_type": "code",
   "execution_count": 88,
   "id": "91575e7c-327a-48f8-ac83-da7dd0ba5fd0",
   "metadata": {},
   "outputs": [
    {
     "data": {
      "text/plain": [
       "1174"
      ]
     },
     "execution_count": 88,
     "metadata": {},
     "output_type": "execute_result"
    }
   ],
   "source": [
    "sorted_items2 = [i for i in item_counts.sort_values(ascending=False).index if i in top_100_item_counts]\n",
    "len(sorted_items2)"
   ]
  },
  {
   "cell_type": "code",
   "execution_count": 89,
   "id": "659b31e9-fe9e-48aa-8ffa-9c6c03953c7f",
   "metadata": {},
   "outputs": [],
   "source": [
    "def sort_transactions(t,case):\n",
    "    if case==0:\n",
    "        return sorted([i for i in t if i in top_100_item_counts],\n",
    "                  key=lambda x: sorted_items2.index(x)) \n",
    "    elif case==1:\n",
    "        return sorted([i for i in t if i in item_counts_above_100],\n",
    "                  key=lambda x: sorted_items.index(x)) \n",
    "       "
   ]
  },
  {
   "cell_type": "code",
   "execution_count": 91,
   "id": "aaf14535-5ce1-4147-a746-7031c9c20f07",
   "metadata": {},
   "outputs": [],
   "source": [
    "sorted_transactions2=[sort_transactions(t,0) for t in transactions]"
   ]
  },
  {
   "cell_type": "code",
   "execution_count": null,
   "id": "530d82e6-a76e-4f16-855f-a0816587ea1b",
   "metadata": {},
   "outputs": [],
   "source": [
    "sorted_transactions=[sort_transactions(t,1) for t in transactions]"
   ]
  },
  {
   "cell_type": "code",
   "execution_count": 92,
   "id": "375b3ed7-c72f-4f30-acc3-d1b2036a59cc",
   "metadata": {},
   "outputs": [
    {
     "data": {
      "text/plain": [
       "1174"
      ]
     },
     "execution_count": 92,
     "metadata": {},
     "output_type": "execute_result"
    }
   ],
   "source": [
    "unique_items = sorted(set(item for txn in sorted_transactions2 for item in txn))\n",
    "len(unique_items)"
   ]
  },
  {
   "cell_type": "code",
   "execution_count": 93,
   "id": "4f168e05-8a5f-4cdb-9297-4287e7357cb1",
   "metadata": {},
   "outputs": [],
   "source": [
    "item_to_id = {item: idx for idx, item in enumerate(unique_items, start=1)}"
   ]
  },
  {
   "cell_type": "code",
   "execution_count": 94,
   "id": "97d70cd1-8a69-41d9-8407-498529c06ed1",
   "metadata": {},
   "outputs": [],
   "source": [
    "id_to_item = {idx: item for item, idx in item_to_id.items()}"
   ]
  },
  {
   "cell_type": "code",
   "execution_count": 95,
   "id": "e37df075-e6e2-4181-9d84-0121b6024afa",
   "metadata": {},
   "outputs": [
    {
     "data": {
      "text/plain": [
       "18536"
      ]
     },
     "execution_count": 95,
     "metadata": {},
     "output_type": "execute_result"
    }
   ],
   "source": [
    "encoded_transactions = [\n",
    "    [item_to_id[item] for item in txn] for txn in sorted_transactions2\n",
    "]\n",
    "\n",
    "len(encoded_transactions)"
   ]
  },
  {
   "cell_type": "code",
   "execution_count": 96,
   "id": "bf87f31e-2c4e-464e-9272-344712452d9a",
   "metadata": {},
   "outputs": [],
   "source": [
    "from collections import defaultdict"
   ]
  },
  {
   "cell_type": "code",
   "execution_count": 97,
   "id": "004915fb-58fb-4401-8cff-3a95410a03eb",
   "metadata": {},
   "outputs": [],
   "source": [
    "class FPTreeNode:\n",
    "    def __init__(self, item, count, parent):\n",
    "        self.item = item\n",
    "        self.count = count\n",
    "        self.parent = parent\n",
    "        self.children = {}\n",
    "        self.node_link = None  # link to next node with same item\n",
    "\n",
    "    def increment(self, count=1):\n",
    "        self.count += count"
   ]
  },
  {
   "cell_type": "code",
   "execution_count": 98,
   "id": "676b0262-8de5-41d6-8aa0-efa55274f273",
   "metadata": {},
   "outputs": [],
   "source": [
    "def insert_tree(items, node, header_table, count=1):\n",
    "    first = items[0]\n",
    "    if first in node.children:\n",
    "        node.children[first].increment(count)\n",
    "    else:\n",
    "        new_node = FPTreeNode(first, count, node)\n",
    "        node.children[first] = new_node\n",
    "\n",
    "        # update header table using node_link\n",
    "        if header_table[first][1] is None:\n",
    "            header_table[first][1] = new_node\n",
    "        else:\n",
    "            current = header_table[first][1]\n",
    "            while current.node_link is not None:\n",
    "                current = current.node_link\n",
    "            current.node_link = new_node\n",
    "\n",
    "    if len(items) > 1:\n",
    "        insert_tree(items[1:], node.children[first], header_table, count)"
   ]
  },
  {
   "cell_type": "code",
   "execution_count": 99,
   "id": "e5c8c3a8-ba00-44e3-ad61-2fce81ebb858",
   "metadata": {},
   "outputs": [],
   "source": [
    "def build_fp_tree(transactions, header_table):\n",
    "    root = FPTreeNode(None, 1, None)\n",
    "    for t in transactions:\n",
    "        filtered = [item for item in t if item in header_table]\n",
    "        sorted_items = sorted(filtered, key=lambda x: (-header_table[x][0], x))\n",
    "        if sorted_items:\n",
    "            insert_tree(sorted_items, root, header_table)\n",
    "    return root"
   ]
  },
  {
   "cell_type": "code",
   "execution_count": 100,
   "id": "3fb3f3ec-ed9f-4cae-9d0d-2a5cfac34501",
   "metadata": {},
   "outputs": [],
   "source": [
    "def display_tree(node, indent=0, max_depth=3):\n",
    "    if indent > max_depth:\n",
    "        return\n",
    "    print('  ' * indent + f\"{node.item} ({node.count})\")\n",
    "    for child in node.children.values():\n",
    "        display_tree(child, indent + 1, max_depth)\n",
    "\n"
   ]
  },
  {
   "cell_type": "code",
   "execution_count": 101,
   "id": "cf0d1797-6e0b-4718-8dd1-f0aefe82faee",
   "metadata": {},
   "outputs": [],
   "source": [
    "header_table = {item_to_id[item]: [support, None] for item, support in top_100_item_counts_2}"
   ]
  },
  {
   "cell_type": "code",
   "execution_count": 102,
   "id": "b1f40fb6-bfcf-49c4-830c-1327d4c3397f",
   "metadata": {},
   "outputs": [],
   "source": [
    "root = build_fp_tree(encoded_transactions, header_table)"
   ]
  },
  {
   "cell_type": "code",
   "execution_count": 103,
   "id": "79087def-ee34-4002-af07-eb83f9307c86",
   "metadata": {},
   "outputs": [],
   "source": [
    "def ascend_fp_tree(node):\n",
    "    path = []\n",
    "    cur = node\n",
    "    while cur.parent is not None and cur.parent.item is not None:\n",
    "        cur = cur.parent\n",
    "        path.append(cur.item)\n",
    "    path.reverse()\n",
    "    return path"
   ]
  },
  {
   "cell_type": "code",
   "execution_count": 104,
   "id": "c34ae06e-9197-49c0-b099-1c83f98146c7",
   "metadata": {},
   "outputs": [],
   "source": [
    "def find_prefix_paths(base_item, header_table):\n",
    "    paths = []\n",
    "    node = header_table[base_item][1]  # first node\n",
    "    while node is not None:\n",
    "        path = ascend_fp_tree(node)\n",
    "        if path:\n",
    "            paths.append((path, node.count))\n",
    "        node = node.node_link\n",
    "    return paths"
   ]
  },
  {
   "cell_type": "code",
   "execution_count": 105,
   "id": "05381185-f6ae-4d27-8483-b502108eef7d",
   "metadata": {},
   "outputs": [],
   "source": [
    "def build_conditional_tree(cond_pattern_base, min_support):\n",
    "    items_count = defaultdict(int)\n",
    "    for path, ct in cond_pattern_base:\n",
    "        for it in path:\n",
    "            items_count[it] += ct\n",
    "    items_count = {it:ct for it, ct in items_count.items() if ct >= min_support}\n",
    "    if not items_count:\n",
    "        return None, None\n",
    "    header_table = {it: [ct, None] for it, ct in items_count.items()}\n",
    "    root = FPTreeNode(None, 1, None)\n",
    "    for path, ct in cond_pattern_base:\n",
    "        ordered = [it for it in sorted(path, key=lambda x: (-items_count.get(x,0), x)) if it in items_count]\n",
    "        if ordered:\n",
    "            insert_tree(ordered, root, header_table, ct)\n",
    "    return root, header_table"
   ]
  },
  {
   "cell_type": "code",
   "execution_count": 106,
   "id": "966e5b31-7f89-4623-bf86-515f3446bf15",
   "metadata": {},
   "outputs": [],
   "source": [
    "def mine_tree(header_table, min_support, prefix, f, id_to_item=None, level=0):\n",
    "    total_items = len(header_table)\n",
    "    processed = 0\n",
    "\n",
    "    for base_pat, (support, first_node) in header_table.items():\n",
    "        # build new prefix\n",
    "        new_freq_set = prefix.copy()\n",
    "        new_freq_set.add(base_pat)\n",
    "\n",
    "        # write to disk instead of keeping in RAM\n",
    "        f.write(f\"{list(new_freq_set)}:{support}\\n\")\n",
    "        f.flush()\n",
    "\n",
    "        # build conditional tree\n",
    "        cond_pats = find_prefix_paths(base_pat, header_table)\n",
    "        cond_tree, cond_header = build_conditional_tree(cond_pats, min_support)\n",
    "\n",
    "        # recurse if there’s still something\n",
    "        if cond_header is not None:\n",
    "            mine_tree(cond_header, min_support, new_freq_set, f, id_to_item, level+1)\n",
    "\n",
    "        # free memory ASAP\n",
    "        del cond_tree\n",
    "        del cond_header\n"
   ]
  },
  {
   "cell_type": "code",
   "execution_count": null,
   "id": "7672e903-4bb9-49ca-95d1-5dad5b817c08",
   "metadata": {},
   "outputs": [],
   "source": [
    "min_support=10\n",
    "\n",
    "with open(\"D:\\\\freq_itemsets5.txt\", \"w\") as f:\n",
    "    mine_tree(header_table, min_support, set(), f, id_to_item)"
   ]
  },
  {
   "cell_type": "code",
   "execution_count": 88,
   "id": "fc41e0af-df9d-47c8-96b9-377ce9c5ef88",
   "metadata": {},
   "outputs": [],
   "source": [
    "# First map description → encoded ID\n",
    "new_df[\"item_id\"] = new_df[\"Cleaned_desc\"].map(item_to_id)"
   ]
  },
  {
   "cell_type": "code",
   "execution_count": 89,
   "id": "4644b2f3-1707-48a9-bdb2-6e49556341c9",
   "metadata": {},
   "outputs": [],
   "source": [
    "# Assume new_df has: InvoiceNo, Country, Cleaned_desc\n",
    "# First map description → encoded ID\n",
    "new_df[\"item_id\"] = new_df[\"Cleaned_desc\"].map(item_to_id)\n",
    "\n",
    "# Popularity per country = how many unique invoices bought each item\n",
    "country_item_counts = (\n",
    "    new_df.groupby([\"Country\", \"item_id\"])[\"InvoiceNo\"]\n",
    "    .nunique()\n",
    "    .reset_index(name=\"count\")\n",
    ")\n",
    "\n",
    "# Global popularity (same but across all countries)\n",
    "global_item_counts = (\n",
    "    new_df.groupby(\"item_id\")[\"InvoiceNo\"]\n",
    "    .nunique()\n",
    "    .reset_index(name=\"count\")\n",
    ")\n",
    "global_item_counts[\"Country\"] = \"GLOBAL\"\n"
   ]
  },
  {
   "cell_type": "code",
   "execution_count": 90,
   "id": "dd18b495-80b9-4ad2-bce9-f3874570256f",
   "metadata": {},
   "outputs": [
    {
     "data": {
      "text/plain": [
       "['white hanging heart tlight holder',\n",
       " 'regency cakestand 3 tier',\n",
       " 'jumbo bag red retrospot',\n",
       " 'party bunting',\n",
       " 'assorted colour bird ornament',\n",
       " 'lunch bag red retrospot',\n",
       " 'set of 3 cake tins pantry design',\n",
       " 'postage',\n",
       " 'lunch bag black skull',\n",
       " 'lunch bag suki design',\n",
       " 'pack of 72 retrospot cake cases',\n",
       " 'spotty bunting',\n",
       " 'lunch bag spaceboy design',\n",
       " 'paper chain kit 50s christmas',\n",
       " 'natural slate heart chalkboard',\n",
       " 'lunch bag cars blue',\n",
       " 'heart of wicker small',\n",
       " 'lunch bag pink polkadot',\n",
       " 'jam making set with jars',\n",
       " 'alarm clock bakelike red',\n",
       " 'wooden picture frame white finish',\n",
       " 'jumbo bag pink polkadot',\n",
       " 'jam making set printed',\n",
       " 'lunch bag apple design',\n",
       " 'set of 4 pantry jelly moulds',\n",
       " 'rex cashcarry jumbo shopper',\n",
       " 'baking set 9 piece retrospot',\n",
       " 'recipe box pantry yellow design',\n",
       " 'retrospot tea set ceramic 11 pc',\n",
       " 'lunch bag woodland',\n",
       " 'victorian glass hanging tlight',\n",
       " 'wooden frame antique white',\n",
       " 'heart of wicker large',\n",
       " 'rabbit night light',\n",
       " 'jumbo shopper vintage red paisley',\n",
       " 'alarm clock bakelike green',\n",
       " 'roses regency teacup and saucer',\n",
       " 'jumbo storage bag suki',\n",
       " 'jumbo bag vintage leaf',\n",
       " 'set5 red retrospot lid glass bowls',\n",
       " 'gardeners kneeling pad keep calm',\n",
       " 'jumbo bag alphabet',\n",
       " 'red retrospot charlotte bag',\n",
       " 'set20 red retrospot paper napkins',\n",
       " '6 ribbons rustic charm',\n",
       " 'vintage snap cards',\n",
       " 'hot water bottle keep calm',\n",
       " 'set of 3 regency cake tins',\n",
       " 'jumbo bag apples',\n",
       " 'spaceboy lunch box',\n",
       " 'chocolate hot water bottle',\n",
       " 'paper chain kit vintage christmas',\n",
       " 'please one person metal sign',\n",
       " 'home building block word',\n",
       " 'green regency teacup and saucer',\n",
       " 'red hanging heart tlight holder',\n",
       " 'pack of 60 pink paisley cake cases',\n",
       " '60 teatime fairy cake cases',\n",
       " 'scottie dog hot water bottle',\n",
       " 'gin tonic diet metal sign',\n",
       " 'jumbo bag strawberry',\n",
       " 'set of 6 spice tins pantry design',\n",
       " 'jumbo bag baroque black white',\n",
       " 'doormat keep calm and come in',\n",
       " 'lunch bag alphabet design',\n",
       " 'clothes pegs retrospot pack 24',\n",
       " 'gardeners kneeling pad cup of tea',\n",
       " 'popcorn holder',\n",
       " 'jumbo bag vintage doily',\n",
       " 'ivory kitchen scales',\n",
       " 'dolly girl lunch box',\n",
       " 'alarm clock bakelike pink',\n",
       " 'wood black board ant white finish',\n",
       " 'cook with wine metal sign',\n",
       " 'jumbo bag pink vintage paisley',\n",
       " 'lunch bag dolly girl design',\n",
       " 'lunch bag vintage leaf design',\n",
       " 'round snack boxes set of4 woodland',\n",
       " 'hand over the chocolate sign',\n",
       " 'plasters in tin woodland animals',\n",
       " 'jumbo bag 50s christmas',\n",
       " 'charlotte bag suki design',\n",
       " 'small white heart of wicker',\n",
       " 'plasters in tin spaceboy',\n",
       " 'doormat red retrospot',\n",
       " 'hanging heart jar tlight holder',\n",
       " 'hand warmer owl design',\n",
       " 'gumball coat rack',\n",
       " 'paper bunting retrospot',\n",
       " 'red harmonica in box',\n",
       " 'pink regency teacup and saucer',\n",
       " 'love building block word',\n",
       " 'gingerbread man cookie cutter',\n",
       " 'lunch bag vintage doily',\n",
       " 'pink cream felt craft trinket box',\n",
       " 'antique silver tlight glass',\n",
       " 'pack of 20 napkins pantry design',\n",
       " 'retrospot heart hot water bottle',\n",
       " 'woodland charlotte bag',\n",
       " 'doormat new england']"
      ]
     },
     "execution_count": 90,
     "metadata": {},
     "output_type": "execute_result"
    }
   ],
   "source": [
    "top_100_item_counts"
   ]
  },
  {
   "cell_type": "code",
   "execution_count": 91,
   "id": "9c795351-a327-4e57-b351-d2968b003298",
   "metadata": {},
   "outputs": [],
   "source": [
    "all_items=(new_df['Cleaned_desc'].unique().tolist())\n",
    "\n",
    "global_item_to_id={}\n",
    "global_id_to_item={}\n",
    "\n",
    "for idx,item in enumerate(top_100_item_counts,start=1):\n",
    "    global_item_to_id[item]=idx\n",
    "    global_id_to_item[idx]=item\n",
    "\n",
    "next_id=101\n",
    "for item in all_items:\n",
    "    if item not in global_item_to_id:\n",
    "        global_item_to_id[item]=next_id\n",
    "        global_id_to_item[next_id]=item\n",
    "        next_id+=1    \n",
    "        \n",
    "    "
   ]
  },
  {
   "cell_type": "code",
   "execution_count": 92,
   "id": "4efbee7b-7e7a-4f73-8ae1-db957dd8c6fa",
   "metadata": {},
   "outputs": [],
   "source": [
    "product_map_df = pd.DataFrame([\n",
    "    {\"item_id\": iid, \"description\": desc, \"is_top100\": (desc in top_100_item_counts)}\n",
    "    for desc, iid in global_item_to_id.items()\n",
    "])"
   ]
  },
  {
   "cell_type": "code",
   "execution_count": 93,
   "id": "16e1e052-0cf4-4b14-ab75-23b2209deb0b",
   "metadata": {},
   "outputs": [
    {
     "data": {
      "text/html": [
       "<div>\n",
       "<style scoped>\n",
       "    .dataframe tbody tr th:only-of-type {\n",
       "        vertical-align: middle;\n",
       "    }\n",
       "\n",
       "    .dataframe tbody tr th {\n",
       "        vertical-align: top;\n",
       "    }\n",
       "\n",
       "    .dataframe thead th {\n",
       "        text-align: right;\n",
       "    }\n",
       "</style>\n",
       "<table border=\"1\" class=\"dataframe\">\n",
       "  <thead>\n",
       "    <tr style=\"text-align: right;\">\n",
       "      <th></th>\n",
       "      <th>item_id</th>\n",
       "      <th>description</th>\n",
       "      <th>is_top100</th>\n",
       "    </tr>\n",
       "  </thead>\n",
       "  <tbody>\n",
       "    <tr>\n",
       "      <th>0</th>\n",
       "      <td>1</td>\n",
       "      <td>white hanging heart tlight holder</td>\n",
       "      <td>True</td>\n",
       "    </tr>\n",
       "    <tr>\n",
       "      <th>1</th>\n",
       "      <td>2</td>\n",
       "      <td>regency cakestand 3 tier</td>\n",
       "      <td>True</td>\n",
       "    </tr>\n",
       "    <tr>\n",
       "      <th>2</th>\n",
       "      <td>3</td>\n",
       "      <td>jumbo bag red retrospot</td>\n",
       "      <td>True</td>\n",
       "    </tr>\n",
       "    <tr>\n",
       "      <th>3</th>\n",
       "      <td>4</td>\n",
       "      <td>party bunting</td>\n",
       "      <td>True</td>\n",
       "    </tr>\n",
       "    <tr>\n",
       "      <th>4</th>\n",
       "      <td>5</td>\n",
       "      <td>assorted colour bird ornament</td>\n",
       "      <td>True</td>\n",
       "    </tr>\n",
       "    <tr>\n",
       "      <th>...</th>\n",
       "      <td>...</td>\n",
       "      <td>...</td>\n",
       "      <td>...</td>\n",
       "    </tr>\n",
       "    <tr>\n",
       "      <th>3840</th>\n",
       "      <td>3841</td>\n",
       "      <td>flower shop design mug</td>\n",
       "      <td>False</td>\n",
       "    </tr>\n",
       "    <tr>\n",
       "      <th>3841</th>\n",
       "      <td>3842</td>\n",
       "      <td>capiz chandelier</td>\n",
       "      <td>False</td>\n",
       "    </tr>\n",
       "    <tr>\n",
       "      <th>3842</th>\n",
       "      <td>3843</td>\n",
       "      <td>blue new baroque flock candlestick</td>\n",
       "      <td>False</td>\n",
       "    </tr>\n",
       "    <tr>\n",
       "      <th>3843</th>\n",
       "      <td>3844</td>\n",
       "      <td>cat with sunglasses blank card</td>\n",
       "      <td>False</td>\n",
       "    </tr>\n",
       "    <tr>\n",
       "      <th>3844</th>\n",
       "      <td>3845</td>\n",
       "      <td>scallop shell soap dish</td>\n",
       "      <td>False</td>\n",
       "    </tr>\n",
       "  </tbody>\n",
       "</table>\n",
       "<p>3845 rows × 3 columns</p>\n",
       "</div>"
      ],
      "text/plain": [
       "      item_id                         description  is_top100\n",
       "0           1   white hanging heart tlight holder       True\n",
       "1           2            regency cakestand 3 tier       True\n",
       "2           3             jumbo bag red retrospot       True\n",
       "3           4                       party bunting       True\n",
       "4           5       assorted colour bird ornament       True\n",
       "...       ...                                 ...        ...\n",
       "3840     3841              flower shop design mug      False\n",
       "3841     3842                    capiz chandelier      False\n",
       "3842     3843  blue new baroque flock candlestick      False\n",
       "3843     3844      cat with sunglasses blank card      False\n",
       "3844     3845             scallop shell soap dish      False\n",
       "\n",
       "[3845 rows x 3 columns]"
      ]
     },
     "execution_count": 93,
     "metadata": {},
     "output_type": "execute_result"
    }
   ],
   "source": [
    "product_map_df"
   ]
  },
  {
   "cell_type": "code",
   "execution_count": 94,
   "id": "adff568b-086d-4205-abd6-badf8a9004ed",
   "metadata": {},
   "outputs": [],
   "source": [
    "# Make sure item_id is mapped using product_map\n",
    "new_df[\"item_id\"] = new_df[\"Cleaned_desc\"].map(global_item_to_id)"
   ]
  },
  {
   "cell_type": "code",
   "execution_count": 95,
   "id": "9476d2b6-e4c9-462e-904b-03a6360a59e8",
   "metadata": {},
   "outputs": [],
   "source": [
    "# Regional popularity = number of unique invoices per (Country, item)\n",
    "region_popularity = (\n",
    "    new_df.groupby([\"Country\", \"item_id\"])[\"InvoiceNo\"]\n",
    "    .nunique()\n",
    "    .reset_index(name=\"count\")\n",
    ")"
   ]
  },
  {
   "cell_type": "code",
   "execution_count": 96,
   "id": "56e1cf8e-8b3b-4792-b501-7b5c05d541a5",
   "metadata": {},
   "outputs": [
    {
     "data": {
      "text/html": [
       "<div>\n",
       "<style scoped>\n",
       "    .dataframe tbody tr th:only-of-type {\n",
       "        vertical-align: middle;\n",
       "    }\n",
       "\n",
       "    .dataframe tbody tr th {\n",
       "        vertical-align: top;\n",
       "    }\n",
       "\n",
       "    .dataframe thead th {\n",
       "        text-align: right;\n",
       "    }\n",
       "</style>\n",
       "<table border=\"1\" class=\"dataframe\">\n",
       "  <thead>\n",
       "    <tr style=\"text-align: right;\">\n",
       "      <th></th>\n",
       "      <th>Country</th>\n",
       "      <th>item_id</th>\n",
       "      <th>count</th>\n",
       "    </tr>\n",
       "  </thead>\n",
       "  <tbody>\n",
       "    <tr>\n",
       "      <th>0</th>\n",
       "      <td>Australia</td>\n",
       "      <td>1</td>\n",
       "      <td>1</td>\n",
       "    </tr>\n",
       "    <tr>\n",
       "      <th>1</th>\n",
       "      <td>Australia</td>\n",
       "      <td>2</td>\n",
       "      <td>6</td>\n",
       "    </tr>\n",
       "    <tr>\n",
       "      <th>2</th>\n",
       "      <td>Australia</td>\n",
       "      <td>3</td>\n",
       "      <td>4</td>\n",
       "    </tr>\n",
       "    <tr>\n",
       "      <th>3</th>\n",
       "      <td>Australia</td>\n",
       "      <td>4</td>\n",
       "      <td>8</td>\n",
       "    </tr>\n",
       "    <tr>\n",
       "      <th>4</th>\n",
       "      <td>Australia</td>\n",
       "      <td>6</td>\n",
       "      <td>8</td>\n",
       "    </tr>\n",
       "    <tr>\n",
       "      <th>...</th>\n",
       "      <td>...</td>\n",
       "      <td>...</td>\n",
       "      <td>...</td>\n",
       "    </tr>\n",
       "    <tr>\n",
       "      <th>17401</th>\n",
       "      <td>United Kingdom</td>\n",
       "      <td>3841</td>\n",
       "      <td>1</td>\n",
       "    </tr>\n",
       "    <tr>\n",
       "      <th>17402</th>\n",
       "      <td>United Kingdom</td>\n",
       "      <td>3842</td>\n",
       "      <td>1</td>\n",
       "    </tr>\n",
       "    <tr>\n",
       "      <th>17403</th>\n",
       "      <td>United Kingdom</td>\n",
       "      <td>3843</td>\n",
       "      <td>1</td>\n",
       "    </tr>\n",
       "    <tr>\n",
       "      <th>17404</th>\n",
       "      <td>United Kingdom</td>\n",
       "      <td>3844</td>\n",
       "      <td>1</td>\n",
       "    </tr>\n",
       "    <tr>\n",
       "      <th>17405</th>\n",
       "      <td>United Kingdom</td>\n",
       "      <td>3845</td>\n",
       "      <td>1</td>\n",
       "    </tr>\n",
       "  </tbody>\n",
       "</table>\n",
       "<p>17406 rows × 3 columns</p>\n",
       "</div>"
      ],
      "text/plain": [
       "              Country  item_id  count\n",
       "0           Australia        1      1\n",
       "1           Australia        2      6\n",
       "2           Australia        3      4\n",
       "3           Australia        4      8\n",
       "4           Australia        6      8\n",
       "...               ...      ...    ...\n",
       "17401  United Kingdom     3841      1\n",
       "17402  United Kingdom     3842      1\n",
       "17403  United Kingdom     3843      1\n",
       "17404  United Kingdom     3844      1\n",
       "17405  United Kingdom     3845      1\n",
       "\n",
       "[17406 rows x 3 columns]"
      ]
     },
     "execution_count": 96,
     "metadata": {},
     "output_type": "execute_result"
    }
   ],
   "source": [
    "region_popularity"
   ]
  },
  {
   "cell_type": "code",
   "execution_count": 97,
   "id": "5503e0a9-52b3-45fc-9275-9f2574c56d6f",
   "metadata": {},
   "outputs": [
    {
     "data": {
      "text/html": [
       "<div>\n",
       "<style scoped>\n",
       "    .dataframe tbody tr th:only-of-type {\n",
       "        vertical-align: middle;\n",
       "    }\n",
       "\n",
       "    .dataframe tbody tr th {\n",
       "        vertical-align: top;\n",
       "    }\n",
       "\n",
       "    .dataframe thead th {\n",
       "        text-align: right;\n",
       "    }\n",
       "</style>\n",
       "<table border=\"1\" class=\"dataframe\">\n",
       "  <thead>\n",
       "    <tr style=\"text-align: right;\">\n",
       "      <th></th>\n",
       "      <th>item_id</th>\n",
       "      <th>count</th>\n",
       "      <th>Country</th>\n",
       "    </tr>\n",
       "  </thead>\n",
       "  <tbody>\n",
       "    <tr>\n",
       "      <th>0</th>\n",
       "      <td>1</td>\n",
       "      <td>1971</td>\n",
       "      <td>GLOBAL</td>\n",
       "    </tr>\n",
       "    <tr>\n",
       "      <th>1</th>\n",
       "      <td>2</td>\n",
       "      <td>1704</td>\n",
       "      <td>GLOBAL</td>\n",
       "    </tr>\n",
       "    <tr>\n",
       "      <th>2</th>\n",
       "      <td>3</td>\n",
       "      <td>1600</td>\n",
       "      <td>GLOBAL</td>\n",
       "    </tr>\n",
       "    <tr>\n",
       "      <th>3</th>\n",
       "      <td>4</td>\n",
       "      <td>1380</td>\n",
       "      <td>GLOBAL</td>\n",
       "    </tr>\n",
       "    <tr>\n",
       "      <th>4</th>\n",
       "      <td>5</td>\n",
       "      <td>1375</td>\n",
       "      <td>GLOBAL</td>\n",
       "    </tr>\n",
       "    <tr>\n",
       "      <th>...</th>\n",
       "      <td>...</td>\n",
       "      <td>...</td>\n",
       "      <td>...</td>\n",
       "    </tr>\n",
       "    <tr>\n",
       "      <th>3840</th>\n",
       "      <td>3841</td>\n",
       "      <td>1</td>\n",
       "      <td>GLOBAL</td>\n",
       "    </tr>\n",
       "    <tr>\n",
       "      <th>3841</th>\n",
       "      <td>3842</td>\n",
       "      <td>1</td>\n",
       "      <td>GLOBAL</td>\n",
       "    </tr>\n",
       "    <tr>\n",
       "      <th>3842</th>\n",
       "      <td>3843</td>\n",
       "      <td>1</td>\n",
       "      <td>GLOBAL</td>\n",
       "    </tr>\n",
       "    <tr>\n",
       "      <th>3843</th>\n",
       "      <td>3844</td>\n",
       "      <td>1</td>\n",
       "      <td>GLOBAL</td>\n",
       "    </tr>\n",
       "    <tr>\n",
       "      <th>3844</th>\n",
       "      <td>3845</td>\n",
       "      <td>1</td>\n",
       "      <td>GLOBAL</td>\n",
       "    </tr>\n",
       "  </tbody>\n",
       "</table>\n",
       "<p>3845 rows × 3 columns</p>\n",
       "</div>"
      ],
      "text/plain": [
       "      item_id  count Country\n",
       "0           1   1971  GLOBAL\n",
       "1           2   1704  GLOBAL\n",
       "2           3   1600  GLOBAL\n",
       "3           4   1380  GLOBAL\n",
       "4           5   1375  GLOBAL\n",
       "...       ...    ...     ...\n",
       "3840     3841      1  GLOBAL\n",
       "3841     3842      1  GLOBAL\n",
       "3842     3843      1  GLOBAL\n",
       "3843     3844      1  GLOBAL\n",
       "3844     3845      1  GLOBAL\n",
       "\n",
       "[3845 rows x 3 columns]"
      ]
     },
     "execution_count": 97,
     "metadata": {},
     "output_type": "execute_result"
    }
   ],
   "source": [
    "global_popularity = (\n",
    "    new_df.groupby(\"item_id\")[\"InvoiceNo\"]\n",
    "    .nunique()\n",
    "    .reset_index(name=\"count\")\n",
    ")\n",
    "global_popularity[\"Country\"] = \"GLOBAL\"\n",
    "\n",
    "global_popularity"
   ]
  },
  {
   "cell_type": "code",
   "execution_count": 98,
   "id": "875e0ff0-111b-4b51-b9ab-fb973ae6358a",
   "metadata": {},
   "outputs": [
    {
     "data": {
      "text/html": [
       "<div>\n",
       "<style scoped>\n",
       "    .dataframe tbody tr th:only-of-type {\n",
       "        vertical-align: middle;\n",
       "    }\n",
       "\n",
       "    .dataframe tbody tr th {\n",
       "        vertical-align: top;\n",
       "    }\n",
       "\n",
       "    .dataframe thead th {\n",
       "        text-align: right;\n",
       "    }\n",
       "</style>\n",
       "<table border=\"1\" class=\"dataframe\">\n",
       "  <thead>\n",
       "    <tr style=\"text-align: right;\">\n",
       "      <th></th>\n",
       "      <th>region</th>\n",
       "      <th>item_id</th>\n",
       "      <th>count</th>\n",
       "    </tr>\n",
       "  </thead>\n",
       "  <tbody>\n",
       "    <tr>\n",
       "      <th>0</th>\n",
       "      <td>Australia</td>\n",
       "      <td>1</td>\n",
       "      <td>1</td>\n",
       "    </tr>\n",
       "    <tr>\n",
       "      <th>1</th>\n",
       "      <td>Australia</td>\n",
       "      <td>2</td>\n",
       "      <td>6</td>\n",
       "    </tr>\n",
       "    <tr>\n",
       "      <th>2</th>\n",
       "      <td>Australia</td>\n",
       "      <td>3</td>\n",
       "      <td>4</td>\n",
       "    </tr>\n",
       "    <tr>\n",
       "      <th>3</th>\n",
       "      <td>Australia</td>\n",
       "      <td>4</td>\n",
       "      <td>8</td>\n",
       "    </tr>\n",
       "    <tr>\n",
       "      <th>4</th>\n",
       "      <td>Australia</td>\n",
       "      <td>6</td>\n",
       "      <td>8</td>\n",
       "    </tr>\n",
       "    <tr>\n",
       "      <th>...</th>\n",
       "      <td>...</td>\n",
       "      <td>...</td>\n",
       "      <td>...</td>\n",
       "    </tr>\n",
       "    <tr>\n",
       "      <th>21246</th>\n",
       "      <td>GLOBAL</td>\n",
       "      <td>3841</td>\n",
       "      <td>1</td>\n",
       "    </tr>\n",
       "    <tr>\n",
       "      <th>21247</th>\n",
       "      <td>GLOBAL</td>\n",
       "      <td>3842</td>\n",
       "      <td>1</td>\n",
       "    </tr>\n",
       "    <tr>\n",
       "      <th>21248</th>\n",
       "      <td>GLOBAL</td>\n",
       "      <td>3843</td>\n",
       "      <td>1</td>\n",
       "    </tr>\n",
       "    <tr>\n",
       "      <th>21249</th>\n",
       "      <td>GLOBAL</td>\n",
       "      <td>3844</td>\n",
       "      <td>1</td>\n",
       "    </tr>\n",
       "    <tr>\n",
       "      <th>21250</th>\n",
       "      <td>GLOBAL</td>\n",
       "      <td>3845</td>\n",
       "      <td>1</td>\n",
       "    </tr>\n",
       "  </tbody>\n",
       "</table>\n",
       "<p>21251 rows × 3 columns</p>\n",
       "</div>"
      ],
      "text/plain": [
       "          region  item_id  count\n",
       "0      Australia        1      1\n",
       "1      Australia        2      6\n",
       "2      Australia        3      4\n",
       "3      Australia        4      8\n",
       "4      Australia        6      8\n",
       "...          ...      ...    ...\n",
       "21246     GLOBAL     3841      1\n",
       "21247     GLOBAL     3842      1\n",
       "21248     GLOBAL     3843      1\n",
       "21249     GLOBAL     3844      1\n",
       "21250     GLOBAL     3845      1\n",
       "\n",
       "[21251 rows x 3 columns]"
      ]
     },
     "execution_count": 98,
     "metadata": {},
     "output_type": "execute_result"
    }
   ],
   "source": [
    "item_popularity_df = pd.concat(\n",
    "    [region_popularity.rename(columns={\"Country\": \"region\"}), \n",
    "     global_popularity.rename(columns={\"Country\": \"region\"})],\n",
    "    ignore_index=True\n",
    ")\n",
    "\n",
    "item_popularity_df"
   ]
  },
  {
   "cell_type": "code",
   "execution_count": 100,
   "id": "039f660e-9447-45f6-bece-e44f551e024f",
   "metadata": {},
   "outputs": [],
   "source": [
    "import psycopg2"
   ]
  },
  {
   "cell_type": "code",
   "execution_count": 101,
   "id": "c7a95fb4-0851-44e3-b127-0afcc357990b",
   "metadata": {},
   "outputs": [],
   "source": [
    "# --- add these near the top of your file ---\n",
    "from psycopg2 import sql\n",
    "\n",
    "def ensure_database(conn_params):\n",
    "    target_db = conn_params[\"dbname\"]\n",
    "    tmp_conn = psycopg2.connect(\n",
    "        dbname=\"postgres\",  # always exists\n",
    "        user=conn_params[\"user\"],\n",
    "        password=conn_params[\"password\"],\n",
    "        host=conn_params[\"host\"],\n",
    "        port=conn_params[\"port\"],\n",
    "    )\n",
    "    tmp_conn.autocommit = True\n",
    "    tmp_cur = tmp_conn.cursor()\n",
    "    tmp_cur.execute(\"SELECT 1 FROM pg_database WHERE datname = %s\", (target_db,))\n",
    "    exists = tmp_cur.fetchone()\n",
    "    if not exists:\n",
    "        print(f\"[INFO] Database '{target_db}' not found. Creating...\")\n",
    "        tmp_cur.execute(sql.SQL(\"CREATE DATABASE {}\").format(sql.Identifier(target_db)))\n",
    "    else:\n",
    "        print(f\"[INFO] Database '{target_db}' already exists.\")\n",
    "    tmp_cur.close()\n",
    "    tmp_conn.close()\n",
    "\n",
    "def get_connection(conn_params):\n",
    "    ensure_database(conn_params)\n",
    "    return psycopg2.connect(**conn_params)\n"
   ]
  },
  {
   "cell_type": "code",
   "execution_count": 102,
   "id": "0c9746b9-3a90-49a1-a963-6c198d733769",
   "metadata": {},
   "outputs": [],
   "source": [
    "def create_tables():\n",
    "    conn = get_connection(PG_CONN)   # instead of psycopg2.connect(...)\n",
    "    cur = conn.cursor()\n",
    "\n",
    "    # Store itemset counts for later lookups\n",
    "    cur.execute(\"\"\"\n",
    "    CREATE TABLE IF NOT EXISTS product_map (\n",
    "        item_id INT PRIMARY KEY,\n",
    "        description TEXT,\n",
    "        is_top100 BOOLEAN\n",
    "    )    \"\"\")\n",
    "\n",
    "    cur.execute(\"\"\" \n",
    "    CREATE TABLE IF NOT EXISTS item_popularity (\n",
    "        region TEXT,\n",
    "        item_id INT, \n",
    "        count INT, \n",
    "        PRIMARY KEY (item_id, region) \n",
    "    ) \"\"\")\n",
    "\n",
    "    conn.commit()\n",
    "    cur.close()\n",
    "    conn.close()"
   ]
  },
  {
   "cell_type": "code",
   "execution_count": 103,
   "id": "c05b3a00-aaa7-4908-b830-aa2c83072416",
   "metadata": {},
   "outputs": [
    {
     "name": "stdout",
     "output_type": "stream",
     "text": [
      "[INFO] Database 'marketdb' already exists.\n"
     ]
    }
   ],
   "source": [
    "create_tables()"
   ]
  },
  {
   "cell_type": "code",
   "execution_count": 104,
   "id": "e5ffe081-0018-4a60-985a-f072ac690eda",
   "metadata": {},
   "outputs": [],
   "source": [
    "import psycopg2\n",
    "\n",
    "conn = psycopg2.connect(**PG_CONN)\n",
    "cur = conn.cursor()\n",
    "\n",
    "for _, row in product_map_df.iterrows():\n",
    "    cur.execute(\"\"\"\n",
    "        INSERT INTO product_map (item_id, description, is_top100)\n",
    "        VALUES (%s, %s, %s)\n",
    "        ON CONFLICT (item_id) DO UPDATE\n",
    "            SET description = EXCLUDED.description,\n",
    "                is_top100 = EXCLUDED.is_top100\n",
    "    \"\"\", (int(row[\"item_id\"]), row[\"description\"], bool(row[\"is_top100\"])))\n",
    "\n",
    "for _, row in item_popularity_df.iterrows():\n",
    "    cur.execute(\"\"\"\n",
    "        INSERT INTO item_popularity (item_id, region, count)\n",
    "        VALUES (%s, %s, %s)\n",
    "        ON CONFLICT (item_id, region) DO UPDATE\n",
    "            SET count = EXCLUDED.count\n",
    "    \"\"\", (int(row[\"item_id\"]), row[\"region\"], int(row[\"count\"])))\n",
    "    \n",
    "conn.commit()\n",
    "cur.close(); conn.close()\n"
   ]
  },
  {
   "cell_type": "code",
   "execution_count": 10,
   "id": "95536e02-e597-4ecb-a696-d398dc58a616",
   "metadata": {},
   "outputs": [],
   "source": [
    "import psycopg2\n",
    "from typing import List, Dict, Tuple, Optional\n",
    "\n",
    "# -----------------------------\n",
    "# Small helper: interleave A,B\n",
    "# -----------------------------\n",
    "def interleave_pairs(a, b, region_norm, threshold=0.2, top_n=15):\n",
    "    \"\"\"\n",
    "    Strict interleaving of region (a) and global (b).\n",
    "    - Include region only if region_norm >= threshold.\n",
    "    - Alternate picks: region → global → region → global …\n",
    "    - If region runs out (or all remaining fall below threshold), fill with globals.\n",
    "    \"\"\"\n",
    "    out, seen = [], set()\n",
    "    ia, ib = 0, 0\n",
    "    turn = \"region\"  # start with region\n",
    "\n",
    "    while len(out) < top_n and (ia < len(a) or ib < len(b)):\n",
    "        if turn == \"region\" and ia < len(a):\n",
    "            iid, score = a[ia]\n",
    "            ia += 1\n",
    "            if iid not in seen and region_norm.get(iid, 0.0) >= threshold:\n",
    "                out.append((iid, score, \"region\"))\n",
    "                seen.add(iid)\n",
    "            turn = \"global\"  # switch turn regardless\n",
    "\n",
    "        elif turn == \"global\" and ib < len(b):\n",
    "            iid, score = b[ib]\n",
    "            ib += 1\n",
    "            if iid not in seen:\n",
    "                out.append((iid, score, \"global\"))\n",
    "                seen.add(iid)\n",
    "            turn = \"region\"\n",
    "\n",
    "        else:\n",
    "            # If one side is exhausted, always take from the other\n",
    "            if ia >= len(a) or all(region_norm.get(x[0], 0.0) < threshold for x in a[ia:]):\n",
    "                # backfill with globals\n",
    "                while len(out) < top_n and ib < len(b):\n",
    "                    iid, score = b[ib]\n",
    "                    ib += 1\n",
    "                    if iid not in seen:\n",
    "                        out.append((iid, score, \"global\"))\n",
    "                        seen.add(iid)\n",
    "                break\n",
    "            else:\n",
    "                turn = \"region\"\n",
    "\n",
    "    return out\n",
    "\n",
    "\n",
    "\n",
    "class HybridRecommender:\n",
    "    \"\"\"\n",
    "    Hybrid recommender backed by Postgres:\n",
    "\n",
    "    Tables expected:\n",
    "      - product_map(item_id INT PRIMARY KEY, description TEXT, is_top100 BOOLEAN)\n",
    "      - item_popularity(item_id INT, region TEXT, count INT, PRIMARY KEY(item_id, region))\n",
    "      - rules(\n",
    "            id SERIAL PRIMARY KEY,\n",
    "            antecedent_arr INT[],\n",
    "            consequent_arr INT[],   -- single-item consequents preferred\n",
    "            confidence FLOAT,\n",
    "            lift FLOAT,\n",
    "            score FLOAT\n",
    "        )\n",
    "\n",
    "    Key ideas:\n",
    "      * Cold-start: interleave region + global popular items from item_popularity.\n",
    "      * Warm-start: rules where antecedent_arr <@ basket (subset).\n",
    "      * Backfill: if rules < top_n, fill with popularity (excluding basket & already picked).\n",
    "      * Always map IDs -> product names using product_map.\n",
    "    \"\"\"\n",
    "\n",
    "    def __init__(\n",
    "        self,\n",
    "        conn_params: Dict,\n",
    "        region: str = \"GLOBAL\",\n",
    "        rule_table: str = \"rules\",\n",
    "        popularity_table: str = \"item_popularity\",\n",
    "        product_map_table: str = \"product_map\",\n",
    "        antecedent_col: str = \"antecedent_arr\",\n",
    "        consequent_col: str = \"consequent_arr\",\n",
    "    ):\n",
    "        self.conn_params = conn_params\n",
    "        self.region = region\n",
    "        self.rule_table = rule_table\n",
    "        self.popularity_table = popularity_table\n",
    "        self.product_map_table = product_map_table\n",
    "        self.antecedent_col = antecedent_col\n",
    "        self.consequent_col = consequent_col\n",
    "\n",
    "        self.basket: set[int] = set()\n",
    "        self.id_to_item: Dict[int, str] = {}\n",
    "        self._load_product_map()\n",
    "\n",
    "    # ---------------------------\n",
    "    # Setup / utilities\n",
    "    # ---------------------------\n",
    "    def _connect(self):\n",
    "        return psycopg2.connect(**self.conn_params)\n",
    "\n",
    "    def _load_product_map(self):\n",
    "        \"\"\"Load id->description into memory once (fast lookup).\"\"\"\n",
    "        conn = self._connect()\n",
    "        cur = conn.cursor()\n",
    "        cur.execute(f\"SELECT item_id, description FROM {self.product_map_table}\")\n",
    "        self.id_to_item = {row[0]: row[1] for row in cur.fetchall()}\n",
    "        cur.close(); conn.close()\n",
    "\n",
    "    def set_region(self, region: str):\n",
    "        self.region = region\n",
    "\n",
    "    def reset_basket(self):\n",
    "        self.basket.clear()\n",
    "\n",
    "    def add_item(self, item: int, top_n: int = 15):\n",
    "        \"\"\"Add an item_id to basket and return fresh recs.\"\"\"\n",
    "        self.basket.add(int(item))\n",
    "        return self.recommend(top_n=top_n)\n",
    "\n",
    "    def remove_item(self, item: int, top_n: int = 15):\n",
    "        self.basket.discard(int(item))\n",
    "        return self.recommend(top_n=top_n)\n",
    "\n",
    "    # ---------------------------\n",
    "    # 1) Popularity (cold start + backfill)\n",
    "    # ---------------------------\n",
    "    def _fetch_popularity(\n",
    "        self,\n",
    "        top_n_region: int = 20,\n",
    "        top_n_global: int = 20,\n",
    "        exclude_ids: Optional[List[int]] = None,\n",
    "    ) -> List[Tuple[int, int, str]]:\n",
    "        \"\"\"\n",
    "        Return interleaved popularity list: [(item_id, count, 'region'|'global'), ...]\n",
    "        Excludes any IDs in exclude_ids (e.g. basket or already-picked).\n",
    "        \"\"\"\n",
    "        exclude_ids = exclude_ids or []\n",
    "        conn = self._connect()\n",
    "        cur = conn.cursor()\n",
    "\n",
    "        # Region-specific (skip basket/already-picked in SQL)\n",
    "        cur.execute(\n",
    "            f\"\"\"\n",
    "            SELECT item_id, count\n",
    "            FROM {self.popularity_table}\n",
    "            WHERE region = %s\n",
    "              AND NOT (item_id = ANY(%s))  -- exclude\n",
    "            ORDER BY count DESC\n",
    "            LIMIT %s\n",
    "            \"\"\",\n",
    "            (self.region, exclude_ids, top_n_region * 2),  # fetch extra in case of exclusions\n",
    "        )\n",
    "        region_rows = cur.fetchall()\n",
    "\n",
    "        # Global\n",
    "        cur.execute(\n",
    "            f\"\"\"\n",
    "            SELECT item_id, count\n",
    "            FROM {self.popularity_table}\n",
    "            WHERE region = 'GLOBAL'\n",
    "              AND NOT (item_id = ANY(%s))\n",
    "            ORDER BY count DESC\n",
    "            LIMIT %s\n",
    "            \"\"\",\n",
    "            (exclude_ids, top_n_global * 2),\n",
    "        )\n",
    "        global_rows = cur.fetchall()\n",
    "\n",
    "        cur.close(); conn.close()\n",
    "\n",
    "        # Tag but do NOT interleave here — just return raw rows\n",
    "        region_tagged = [(iid, score, \"region\") for iid, score in region_rows]\n",
    "        global_tagged = [(iid, score, \"global\") for iid, score in global_rows]\n",
    "        return region_tagged + global_tagged\n",
    "\n",
    "\n",
    "    # ---------------------------\n",
    "    # 2) Rules (warm start)\n",
    "    # ---------------------------   \n",
    "\n",
    "    def _fetch_rules(self, basket_ids, fetch_limit=100):\n",
    "        if not basket_ids:\n",
    "                return {}\n",
    "            \n",
    "        \"\"\"Fetch candidate consequents based on association rules (antecedent_key/consequent_key are TEXT).\"\"\"\n",
    "        conn = psycopg2.connect(**self.conn_params)\n",
    "        cur = conn.cursor()\n",
    "    \n",
    "        # Convert basket IDs into text array for Postgres\n",
    "        basket_strs = [str(b) for b in basket_ids]\n",
    "    \n",
    "        cur.execute(\"\"\"\n",
    "            SELECT consequent_key, confidence, lift, score\n",
    "            FROM rules\n",
    "            WHERE string_to_array(antecedent_key, ',') <@ %s::text[]\n",
    "            ORDER BY score DESC\n",
    "            LIMIT %s\n",
    "        \"\"\", (basket_strs, fetch_limit))\n",
    "    \n",
    "        rows = cur.fetchall()\n",
    "        cur.close(); conn.close()\n",
    "    \n",
    "        basket_set = set(basket_ids)\n",
    "        recs = {}\n",
    "        for cons_str, conf, lift, score in rows:\n",
    "            cons_items = set(map(int, cons_str.split(\",\")))  # split text \"96\" → {96}\n",
    "            # skip if consequent overlaps basket\n",
    "            if cons_items & basket_set:\n",
    "                continue\n",
    "            c = list(cons_items)[0]   # single-item consequent\n",
    "            recs[c] = max(recs.get(c, 0), score)\n",
    "        return recs\n",
    "\n",
    "\n",
    "    # ---------------------------\n",
    "    # Add helpers inside HybridRecommender\n",
    "    # ---------------------------\n",
    "    def _adaptive_alpha(self, basket_size: int, c: float = 3.0) -> float:\n",
    "        \"\"\"\n",
    "        Adaptive alpha in [0,1]. c controls how fast alpha rises with basket size.\n",
    "        - c ~ 3 is a reasonable start (1 item => 0.25, 3 items => 0.5, 9 items => 0.75).\n",
    "        \"\"\"\n",
    "        if basket_size <= 0:\n",
    "            return 0.0\n",
    "        return float(basket_size) / (basket_size + c)\n",
    "    \n",
    "    def _normalize_rule_scores(self, rules_dict: Dict[int, float]) -> Dict[int, float]:\n",
    "        \"\"\"Min-max normalize rule scores into [0,1].\"\"\"\n",
    "        if not rules_dict:\n",
    "            return {}\n",
    "        vals = list(rules_dict.values())\n",
    "        mn, mx = min(vals), max(vals)\n",
    "        if mx == mn:\n",
    "            # single non-zero value => set to 1.0, zeros stay 0.0\n",
    "            return {iid: (1.0 if v > 0 else 0.0) for iid, v in rules_dict.items()}\n",
    "        return {iid: (v - mn) / (mx - mn) for iid, v in rules_dict.items()}\n",
    "    \n",
    "    def _normalize_pop_scores(self, pop_scores: Dict[int, float]) -> Dict[int, float]:\n",
    "        \"\"\"\n",
    "        Log-transform (log1p) then min-max normalize popularity counts into [0,1].\n",
    "        pop_scores: {item_id: count}\n",
    "        \"\"\"\n",
    "        import math\n",
    "        if not pop_scores:\n",
    "            return {}\n",
    "        ids, vals = zip(*pop_scores.items())\n",
    "        vals_log = [math.log1p(v) for v in vals]\n",
    "        mn, mx = min(vals_log), max(vals_log)\n",
    "        if mx == mn:\n",
    "            return {iid: (1.0 if v > 0 else 0.0) for iid, v in pop_scores.items()}\n",
    "        normalized = {}\n",
    "        for iid, v in pop_scores.items():\n",
    "            y = math.log1p(v)\n",
    "            normalized[iid] = (y - mn) / (mx - mn)\n",
    "        return normalized\n",
    "\n",
    "    # ---------------------------\n",
    "    # 3) Main recommend()\n",
    "    # ---------------------------\n",
    "    def recommend(self, top_n: int = 15) -> List[Dict]:\n",
    "        \"\"\"\n",
    "        Return a list of dicts with consistent scoring:\n",
    "          - Cold start: region_score or global_score (normalized separately)\n",
    "          - Warm start: final_score + rule_norm/pop_norm (normalized on union)\n",
    "        \"\"\"\n",
    "        exclude = list(self.basket)  # never recommend items already in basket\n",
    "    \n",
    "        # -------------------------\n",
    "        # Case A: Cold start\n",
    "        # -------------------------\n",
    "        if not self.basket:\n",
    "            # fetch region + global popularity\n",
    "            pop_all = self._fetch_popularity(\n",
    "                top_n_region=top_n,\n",
    "                top_n_global=top_n,\n",
    "                exclude_ids=exclude\n",
    "            )\n",
    "        \n",
    "            # Separate sets\n",
    "            pop_region = [(iid, score) for (iid, score, src) in pop_all if src == \"region\"]\n",
    "            pop_global = [(iid, score) for (iid, score, src) in pop_all if src == \"global\"]\n",
    "        \n",
    "            # Normalization per set\n",
    "            def minmax_norm(vals):\n",
    "                if not vals:\n",
    "                    return {}\n",
    "                min_v, max_v = min(v for _, v in vals), max(v for _, v in vals)\n",
    "                if max_v == min_v:\n",
    "                    return {iid: 1.0 for iid, _ in vals}\n",
    "                return {iid: (v - min_v) / (max_v - min_v) for iid, v in vals}\n",
    "        \n",
    "            region_norm = minmax_norm(pop_region)\n",
    "            global_norm = minmax_norm(pop_global)\n",
    "        \n",
    "            # Threshold-aware interleaving\n",
    "            pop = interleave_pairs(pop_region, pop_global, region_norm, threshold=0.2, top_n=top_n)\n",
    "    \n",
    "        \n",
    "            results = []\n",
    "            for (iid, score, src) in pop[:top_n]:\n",
    "                results.append({\n",
    "                    \"item_id\": iid,\n",
    "                    \"description\": self.id_to_item.get(iid, f\"<unknown:{iid}>\"),\n",
    "                    \"region_score\": region_norm.get(iid) if src == \"region\" else None,\n",
    "                    \"global_score\": global_norm.get(iid) if src == \"global\" else None,\n",
    "                    \"source\": src\n",
    "                })\n",
    "            return results\n",
    "\n",
    "    \n",
    "        # -------------------------\n",
    "        # Case B: Warm start\n",
    "        # -------------------------\n",
    "        rules_dict = self._fetch_rules(list(self.basket), fetch_limit=top_n * 8)\n",
    "        ranked_rules = sorted(rules_dict.items(), key=lambda x: x[1], reverse=True)\n",
    "    \n",
    "        picked_ids, results = set(), []\n",
    "        candidate_scores = {}\n",
    "    \n",
    "        # Collect rules scores\n",
    "        for iid, score in ranked_rules:\n",
    "            if iid not in self.basket:\n",
    "                candidate_scores[iid] = {\"rule\": score}\n",
    "    \n",
    "        # Collect popularity scores for backfill\n",
    "        exclude_more = list(self.basket.union(set(candidate_scores.keys())))\n",
    "        pop = self._fetch_popularity(\n",
    "            top_n_region=top_n,\n",
    "            top_n_global=top_n,\n",
    "            exclude_ids=exclude_more\n",
    "        )\n",
    "        for iid, score, src in pop:\n",
    "            if iid not in self.basket:\n",
    "                if iid not in candidate_scores:\n",
    "                    candidate_scores[iid] = {}\n",
    "                candidate_scores[iid][\"pop\"] = score\n",
    "    \n",
    "        # -------------------------\n",
    "        # Normalization (on union set)\n",
    "        # -------------------------\n",
    "        def minmax_dict(d: Dict[int, float]):\n",
    "            if not d: return {}\n",
    "            vals = list(d.values())\n",
    "            min_v, max_v = min(vals), max(vals)\n",
    "            return {k: (v - min_v) / (max_v - min_v + 1e-9) for k, v in d.items()}\n",
    "    \n",
    "        rule_scores = {iid: s[\"rule\"] for iid, s in candidate_scores.items() if \"rule\" in s}\n",
    "        pop_scores = {iid: s[\"pop\"] for iid, s in candidate_scores.items() if \"pop\" in s}\n",
    "    \n",
    "        rule_norm = minmax_dict(rule_scores)\n",
    "        pop_norm = minmax_dict(pop_scores)\n",
    "    \n",
    "        # Adaptive alpha\n",
    "        c=3\n",
    "        alpha = min(1.0, max(0.0, len(self.basket) / (len(self.basket)+c)))\n",
    "\n",
    "    \n",
    "        # Final scoring\n",
    "        for iid, comp in candidate_scores.items():\n",
    "            rn = rule_norm.get(iid, 0.0)\n",
    "            pn = pop_norm.get(iid, 0.0)\n",
    "            final_score = alpha * rn + (1 - alpha) * pn\n",
    "    \n",
    "            results.append({\n",
    "                \"item_id\": iid,\n",
    "                \"description\": self.id_to_item.get(iid, f\"<unknown:{iid}>\"),\n",
    "                \"final_score\": final_score,\n",
    "                \"rule_norm\": rn if \"rule\" in comp else None,\n",
    "                \"pop_norm\": pn if \"pop\" in comp else None,\n",
    "                \"source\": \"rules\" if \"rule\" in comp else \"popularity\"\n",
    "            })\n",
    "    \n",
    "        # Sort by final_score\n",
    "        results = sorted(results, key=lambda x: x[\"final_score\"], reverse=True)\n",
    "        return results[:top_n]\n",
    "\n"
   ]
  },
  {
   "cell_type": "code",
   "execution_count": 11,
   "id": "95b79619-b2da-442d-a5b0-8abbbb926607",
   "metadata": {},
   "outputs": [],
   "source": [
    "rec = HybridRecommender(conn_params, region=\"Australia\")"
   ]
  },
  {
   "cell_type": "code",
   "execution_count": 12,
   "id": "0da32357-1b3d-4ae3-80be-b5c4db244948",
   "metadata": {},
   "outputs": [
    {
     "name": "stdout",
     "output_type": "stream",
     "text": [
      "Cold start recommendations:\n",
      "Item ID: 126, Description: red toadstool led night light, Region Score: 1.0, Source: region\n",
      "Item ID: 1, Description: white hanging heart tlight holder, Global Score: 1.0, Source: global\n",
      "Item ID: 7, Description: set of 3 cake tins pantry design, Region Score: 1.0, Source: region\n",
      "Item ID: 2, Description: regency cakestand 3 tier, Global Score: 0.7559414990859232, Source: global\n",
      "Item ID: 4, Description: party bunting, Region Score: 0.6666666666666666, Source: region\n",
      "Item ID: 3, Description: jumbo bag red retrospot, Global Score: 0.6608775137111518, Source: global\n",
      "Item ID: 13, Description: lunch bag spaceboy design, Region Score: 0.6666666666666666, Source: region\n",
      "Item ID: 304, Description: baking set spaceboy design, Region Score: 0.6666666666666666, Source: region\n",
      "Item ID: 5, Description: assorted colour bird ornament, Global Score: 0.45521023765996343, Source: global\n",
      "Item ID: 6, Description: lunch bag red retrospot, Region Score: 0.6666666666666666, Source: region\n"
     ]
    }
   ],
   "source": [
    "print(\"Cold start recommendations:\")\n",
    "for r in rec.recommend(top_n=10):\n",
    "    if r['source'] == \"region\":\n",
    "        print(f\"Item ID: {r['item_id']}, \"\n",
    "              f\"Description: {r['description']}, \"\n",
    "              f\"Region Score: {r['region_score']}, \"\n",
    "              f\"Source: {r['source']}\")\n",
    "    elif r['source'] == \"global\":\n",
    "        print(f\"Item ID: {r['item_id']}, \"\n",
    "              f\"Description: {r['description']}, \"\n",
    "              f\"Global Score: {r['global_score']}, \"\n",
    "              f\"Source: {r['source']}\")\n"
   ]
  },
  {
   "cell_type": "code",
   "execution_count": 13,
   "id": "55edb78e-8c89-476e-9cff-2e456693dd02",
   "metadata": {},
   "outputs": [
    {
     "name": "stdout",
     "output_type": "stream",
     "text": [
      "After adding 78 (basket size 1):\n",
      "{'item_id': 1, 'description': 'white hanging heart tlight holder', 'final_score': 0.7499999999996183, 'rule_norm': None, 'pop_norm': 0.9999999999994911, 'source': 'popularity'}\n",
      "{'item_id': 2, 'description': 'regency cakestand 3 tier', 'final_score': 0.6480916030531053, 'rule_norm': None, 'pop_norm': 0.8641221374041405, 'source': 'popularity'}\n",
      "{'item_id': 4, 'description': 'party bunting', 'final_score': 0.5244274809157636, 'rule_norm': None, 'pop_norm': 0.6992366412210183, 'source': 'popularity'}\n",
      "{'item_id': 6, 'description': 'lunch bag red retrospot', 'final_score': 0.48931297709898763, 'rule_norm': None, 'pop_norm': 0.6524173027986502, 'source': 'popularity'}\n",
      "{'item_id': 9, 'description': 'lunch bag black skull', 'final_score': 0.39923664122117086, 'rule_norm': None, 'pop_norm': 0.5323155216282278, 'source': 'popularity'}\n",
      "{'item_id': 10, 'description': 'lunch bag suki design', 'final_score': 0.3958015267173558, 'rule_norm': None, 'pop_norm': 0.5277353689564744, 'source': 'popularity'}\n",
      "{'item_id': 11, 'description': 'pack of 72 retrospot cake cases', 'final_score': 0.3904580152669769, 'rule_norm': None, 'pop_norm': 0.5206106870226358, 'source': 'popularity'}\n",
      "{'item_id': 12, 'description': 'spotty bunting', 'final_score': 0.3805343511448445, 'rule_norm': None, 'pop_norm': 0.5073791348597927, 'source': 'popularity'}\n",
      "{'item_id': 13, 'description': 'lunch bag spaceboy design', 'final_score': 0.37480916030515277, 'rule_norm': None, 'pop_norm': 0.499745547073537, 'source': 'popularity'}\n",
      "{'item_id': 14, 'description': 'paper chain kit 50s christmas', 'final_score': 0.3717557251906505, 'rule_norm': None, 'pop_norm': 0.4956743002542007, 'source': 'popularity'}\n"
     ]
    }
   ],
   "source": [
    "# Warm start: add 1 item (observes adaptive alpha)\n",
    "res = rec.add_item(78, top_n=10)   # rec.add_item uses recommend() internally\n",
    "print(\"After adding 78 (basket size 1):\")\n",
    "for r in res: print(r)"
   ]
  },
  {
   "cell_type": "code",
   "execution_count": 14,
   "id": "371b50b1-39c8-4d44-9d91-473cc1695796",
   "metadata": {},
   "outputs": [
    {
     "data": {
      "text/plain": [
       "[{'item_id': 1,\n",
       "  'description': 'white hanging heart tlight holder',\n",
       "  'final_score': 0.5999999999996947,\n",
       "  'rule_norm': None,\n",
       "  'pop_norm': 0.9999999999994911,\n",
       "  'source': 'popularity'},\n",
       " {'item_id': 2,\n",
       "  'description': 'regency cakestand 3 tier',\n",
       "  'final_score': 0.5184732824424843,\n",
       "  'rule_norm': None,\n",
       "  'pop_norm': 0.8641221374041405,\n",
       "  'source': 'popularity'},\n",
       " {'item_id': 4,\n",
       "  'description': 'party bunting',\n",
       "  'final_score': 0.41954198473261095,\n",
       "  'rule_norm': None,\n",
       "  'pop_norm': 0.6992366412210183,\n",
       "  'source': 'popularity'},\n",
       " {'item_id': 37,\n",
       "  'description': 'roses regency teacup and saucer',\n",
       "  'final_score': 0.3999999998317043,\n",
       "  'rule_norm': 0.9999999995792608,\n",
       "  'pop_norm': None,\n",
       "  'source': 'rules'},\n",
       " {'item_id': 6,\n",
       "  'description': 'lunch bag red retrospot',\n",
       "  'final_score': 0.3914503816791901,\n",
       "  'rule_norm': None,\n",
       "  'pop_norm': 0.6524173027986502,\n",
       "  'source': 'popularity'},\n",
       " {'item_id': 9,\n",
       "  'description': 'lunch bag black skull',\n",
       "  'final_score': 0.3193893129769367,\n",
       "  'rule_norm': None,\n",
       "  'pop_norm': 0.5323155216282278,\n",
       "  'source': 'popularity'},\n",
       " {'item_id': 10,\n",
       "  'description': 'lunch bag suki design',\n",
       "  'final_score': 0.3166412213738847,\n",
       "  'rule_norm': None,\n",
       "  'pop_norm': 0.5277353689564744,\n",
       "  'source': 'popularity'},\n",
       " {'item_id': 11,\n",
       "  'description': 'pack of 72 retrospot cake cases',\n",
       "  'final_score': 0.31236641221358147,\n",
       "  'rule_norm': None,\n",
       "  'pop_norm': 0.5206106870226358,\n",
       "  'source': 'popularity'},\n",
       " {'item_id': 12,\n",
       "  'description': 'spotty bunting',\n",
       "  'final_score': 0.3044274809158756,\n",
       "  'rule_norm': None,\n",
       "  'pop_norm': 0.5073791348597927,\n",
       "  'source': 'popularity'},\n",
       " {'item_id': 13,\n",
       "  'description': 'lunch bag spaceboy design',\n",
       "  'final_score': 0.2998473282441222,\n",
       "  'rule_norm': None,\n",
       "  'pop_norm': 0.499745547073537,\n",
       "  'source': 'popularity'}]"
      ]
     },
     "execution_count": 14,
     "metadata": {},
     "output_type": "execute_result"
    }
   ],
   "source": [
    "rec.add_item(39, top_n=10)   # suppose 39 = \"jumbo bag red retrospot\""
   ]
  },
  {
   "cell_type": "code",
   "execution_count": 15,
   "id": "1556431b-fa2d-4653-b11c-ff7ee0893ada",
   "metadata": {},
   "outputs": [
    {
     "data": {
      "text/plain": [
       "[{'item_id': 1,\n",
       "  'description': 'white hanging heart tlight holder',\n",
       "  'final_score': 0.49999999999974554,\n",
       "  'rule_norm': None,\n",
       "  'pop_norm': 0.9999999999994911,\n",
       "  'source': 'popularity'},\n",
       " {'item_id': 44,\n",
       "  'description': 'set20 red retrospot paper napkins',\n",
       "  'final_score': 0.49999999985016313,\n",
       "  'rule_norm': 0.9999999997003263,\n",
       "  'pop_norm': None,\n",
       "  'source': 'rules'},\n",
       " {'item_id': 2,\n",
       "  'description': 'regency cakestand 3 tier',\n",
       "  'final_score': 0.43206106870207023,\n",
       "  'rule_norm': None,\n",
       "  'pop_norm': 0.8641221374041405,\n",
       "  'source': 'popularity'},\n",
       " {'item_id': 3,\n",
       "  'description': 'jumbo bag red retrospot',\n",
       "  'final_score': 0.4055979643763839,\n",
       "  'rule_norm': None,\n",
       "  'pop_norm': 0.8111959287527678,\n",
       "  'source': 'popularity'},\n",
       " {'item_id': 43,\n",
       "  'description': 'red retrospot charlotte bag',\n",
       "  'final_score': 0.40441744051727835,\n",
       "  'rule_norm': 0.8088348810345567,\n",
       "  'pop_norm': None,\n",
       "  'source': 'rules'},\n",
       " {'item_id': 4,\n",
       "  'description': 'party bunting',\n",
       "  'final_score': 0.3496183206105091,\n",
       "  'rule_norm': None,\n",
       "  'pop_norm': 0.6992366412210183,\n",
       "  'source': 'popularity'},\n",
       " {'item_id': 5,\n",
       "  'description': 'assorted colour bird ornament',\n",
       "  'final_score': 0.3483460559794665,\n",
       "  'rule_norm': None,\n",
       "  'pop_norm': 0.696692111958933,\n",
       "  'source': 'popularity'},\n",
       " {'item_id': 6,\n",
       "  'description': 'lunch bag red retrospot',\n",
       "  'final_score': 0.3262086513993251,\n",
       "  'rule_norm': None,\n",
       "  'pop_norm': 0.6524173027986502,\n",
       "  'source': 'popularity'},\n",
       " {'item_id': 7,\n",
       "  'description': 'set of 3 cake tins pantry design',\n",
       "  'final_score': 0.290076335877715,\n",
       "  'rule_norm': None,\n",
       "  'pop_norm': 0.58015267175543,\n",
       "  'source': 'popularity'},\n",
       " {'item_id': 8,\n",
       "  'description': 'postage',\n",
       "  'final_score': 0.27811704834591444,\n",
       "  'rule_norm': None,\n",
       "  'pop_norm': 0.5562340966918289,\n",
       "  'source': 'popularity'}]"
      ]
     },
     "execution_count": 15,
     "metadata": {},
     "output_type": "execute_result"
    }
   ],
   "source": [
    "rec.add_item(37, top_n=10)   # Suppose 1234 = rare product (not in top 100 rules)"
   ]
  },
  {
   "cell_type": "code",
   "execution_count": 16,
   "id": "277d6bec-53b4-405c-803d-4f068037870b",
   "metadata": {},
   "outputs": [
    {
     "data": {
      "text/plain": [
       "[{'item_id': 44,\n",
       "  'description': 'set20 red retrospot paper napkins',\n",
       "  'final_score': 0.5714285713598818,\n",
       "  'rule_norm': 0.9999999998797932,\n",
       "  'pop_norm': None,\n",
       "  'source': 'rules'},\n",
       " {'item_id': 1,\n",
       "  'description': 'white hanging heart tlight holder',\n",
       "  'final_score': 0.4285714285712105,\n",
       "  'rule_norm': None,\n",
       "  'pop_norm': 0.9999999999994911,\n",
       "  'source': 'popularity'},\n",
       " {'item_id': 2,\n",
       "  'description': 'regency cakestand 3 tier',\n",
       "  'final_score': 0.3703380588874888,\n",
       "  'rule_norm': None,\n",
       "  'pop_norm': 0.8641221374041405,\n",
       "  'source': 'popularity'},\n",
       " {'item_id': 3,\n",
       "  'description': 'jumbo bag red retrospot',\n",
       "  'final_score': 0.3476553980369005,\n",
       "  'rule_norm': None,\n",
       "  'pop_norm': 0.8111959287527678,\n",
       "  'source': 'popularity'},\n",
       " {'item_id': 4,\n",
       "  'description': 'party bunting',\n",
       "  'final_score': 0.2996728462375793,\n",
       "  'rule_norm': None,\n",
       "  'pop_norm': 0.6992366412210183,\n",
       "  'source': 'popularity'},\n",
       " {'item_id': 5,\n",
       "  'description': 'assorted colour bird ornament',\n",
       "  'final_score': 0.2985823336966856,\n",
       "  'rule_norm': None,\n",
       "  'pop_norm': 0.696692111958933,\n",
       "  'source': 'popularity'},\n",
       " {'item_id': 6,\n",
       "  'description': 'lunch bag red retrospot',\n",
       "  'final_score': 0.2796074154851358,\n",
       "  'rule_norm': None,\n",
       "  'pop_norm': 0.6524173027986502,\n",
       "  'source': 'popularity'},\n",
       " {'item_id': 7,\n",
       "  'description': 'set of 3 cake tins pantry design',\n",
       "  'final_score': 0.2486368593237557,\n",
       "  'rule_norm': None,\n",
       "  'pop_norm': 0.58015267175543,\n",
       "  'source': 'popularity'},\n",
       " {'item_id': 8,\n",
       "  'description': 'postage',\n",
       "  'final_score': 0.23838604143935524,\n",
       "  'rule_norm': None,\n",
       "  'pop_norm': 0.5562340966918289,\n",
       "  'source': 'popularity'},\n",
       " {'item_id': 9,\n",
       "  'description': 'lunch bag black skull',\n",
       "  'final_score': 0.2281352235549548,\n",
       "  'rule_norm': None,\n",
       "  'pop_norm': 0.5323155216282278,\n",
       "  'source': 'popularity'}]"
      ]
     },
     "execution_count": 16,
     "metadata": {},
     "output_type": "execute_result"
    }
   ],
   "source": [
    "rec.add_item(43, top_n=10)   # Suppose 1234 = rare product (not in top 100 rules)"
   ]
  },
  {
   "cell_type": "code",
   "execution_count": 8,
   "id": "fa0cf922-9b10-4251-adb1-acd38538b3aa",
   "metadata": {},
   "outputs": [
    {
     "data": {
      "text/plain": [
       "[{'item_id': 44,\n",
       "  'description': 'set20 red retrospot paper napkins',\n",
       "  'final_score': 0.9999999998547392,\n",
       "  'rule_norm': 0.9999999998547392,\n",
       "  'pop_norm': None,\n",
       "  'source': 'rules'},\n",
       " {'item_id': 52,\n",
       "  'description': 'paper chain kit vintage christmas',\n",
       "  'final_score': 0.9163427837066326,\n",
       "  'rule_norm': 0.9163427837066326,\n",
       "  'pop_norm': None,\n",
       "  'source': 'rules'},\n",
       " {'item_id': 48,\n",
       "  'description': 'set of 3 regency cake tins',\n",
       "  'final_score': 0.6274728498664505,\n",
       "  'rule_norm': 0.6274728498664505,\n",
       "  'pop_norm': None,\n",
       "  'source': 'rules'},\n",
       " {'item_id': 49,\n",
       "  'description': 'jumbo bag apples',\n",
       "  'final_score': 0.5270390361775592,\n",
       "  'rule_norm': 0.5270390361775592,\n",
       "  'pop_norm': None,\n",
       "  'source': 'rules'},\n",
       " {'item_id': 54,\n",
       "  'description': 'home building block word',\n",
       "  'final_score': 0.2770362526924168,\n",
       "  'rule_norm': 0.2770362526924168,\n",
       "  'pop_norm': None,\n",
       "  'source': 'rules'},\n",
       " {'item_id': 53,\n",
       "  'description': 'please one person metal sign',\n",
       "  'final_score': 0.22789166180518433,\n",
       "  'rule_norm': 0.22789166180518433,\n",
       "  'pop_norm': None,\n",
       "  'source': 'rules'},\n",
       " {'item_id': 57,\n",
       "  'description': 'pack of 60 pink paisley cake cases',\n",
       "  'final_score': 0.10129339234140544,\n",
       "  'rule_norm': 0.10129339234140544,\n",
       "  'pop_norm': None,\n",
       "  'source': 'rules'},\n",
       " {'item_id': 47,\n",
       "  'description': 'hot water bottle keep calm',\n",
       "  'final_score': 0.0,\n",
       "  'rule_norm': 0.0,\n",
       "  'pop_norm': None,\n",
       "  'source': 'rules'},\n",
       " {'item_id': 126,\n",
       "  'description': 'red toadstool led night light',\n",
       "  'final_score': 0.0,\n",
       "  'rule_norm': None,\n",
       "  'pop_norm': 0.0015267175572511314,\n",
       "  'source': 'popularity'},\n",
       " {'item_id': 7,\n",
       "  'description': 'set of 3 cake tins pantry design',\n",
       "  'final_score': 0.0,\n",
       "  'rule_norm': None,\n",
       "  'pop_norm': 0.58015267175543,\n",
       "  'source': 'popularity'}]"
      ]
     },
     "execution_count": 8,
     "metadata": {},
     "output_type": "execute_result"
    }
   ],
   "source": [
    "rec.add_item(51, top_n=10)   # Suppose 1234 = rare product (not in top 100 rules)"
   ]
  },
  {
   "cell_type": "code",
   "execution_count": 9,
   "id": "660cd66e-eeb7-4301-9d92-73610303d8d6",
   "metadata": {},
   "outputs": [
    {
     "data": {
      "text/plain": [
       "[{'item_id': 49,\n",
       "  'description': 'jumbo bag apples',\n",
       "  'final_score': 0.9999999998222243,\n",
       "  'rule_norm': 0.9999999998222243,\n",
       "  'pop_norm': None,\n",
       "  'source': 'rules'},\n",
       " {'item_id': 52,\n",
       "  'description': 'paper chain kit vintage christmas',\n",
       "  'final_score': 0.9842236859055954,\n",
       "  'rule_norm': 0.9842236859055954,\n",
       "  'pop_norm': None,\n",
       "  'source': 'rules'},\n",
       " {'item_id': 48,\n",
       "  'description': 'set of 3 regency cake tins',\n",
       "  'final_score': 0.8169532803748432,\n",
       "  'rule_norm': 0.8169532803748432,\n",
       "  'pop_norm': None,\n",
       "  'source': 'rules'},\n",
       " {'item_id': 44,\n",
       "  'description': 'set20 red retrospot paper napkins',\n",
       "  'final_score': 0.7909547135461822,\n",
       "  'rule_norm': 0.7909547135461822,\n",
       "  'pop_norm': None,\n",
       "  'source': 'rules'},\n",
       " {'item_id': 53,\n",
       "  'description': 'please one person metal sign',\n",
       "  'final_score': 0.5171927156600465,\n",
       "  'rule_norm': 0.5171927156600465,\n",
       "  'pop_norm': None,\n",
       "  'source': 'rules'},\n",
       " {'item_id': 54,\n",
       "  'description': 'home building block word',\n",
       "  'final_score': 0.39813517071200766,\n",
       "  'rule_norm': 0.39813517071200766,\n",
       "  'pop_norm': None,\n",
       "  'source': 'rules'},\n",
       " {'item_id': 47,\n",
       "  'description': 'hot water bottle keep calm',\n",
       "  'final_score': 0.0,\n",
       "  'rule_norm': 0.0,\n",
       "  'pop_norm': None,\n",
       "  'source': 'rules'},\n",
       " {'item_id': 126,\n",
       "  'description': 'red toadstool led night light',\n",
       "  'final_score': 0.0,\n",
       "  'rule_norm': None,\n",
       "  'pop_norm': 0.0015267175572511314,\n",
       "  'source': 'popularity'},\n",
       " {'item_id': 7,\n",
       "  'description': 'set of 3 cake tins pantry design',\n",
       "  'final_score': 0.0,\n",
       "  'rule_norm': None,\n",
       "  'pop_norm': 0.58015267175543,\n",
       "  'source': 'popularity'},\n",
       " {'item_id': 4,\n",
       "  'description': 'party bunting',\n",
       "  'final_score': 0.0,\n",
       "  'rule_norm': None,\n",
       "  'pop_norm': 0.6992366412210183,\n",
       "  'source': 'popularity'}]"
      ]
     },
     "execution_count": 9,
     "metadata": {},
     "output_type": "execute_result"
    }
   ],
   "source": [
    "rec.add_item(57, top_n=10)   # Suppose 1234 = rare product (not in top 100 rules)"
   ]
  },
  {
   "cell_type": "code",
   "execution_count": null,
   "id": "9a81b039-2f8e-4dac-91c2-157abc72134d",
   "metadata": {},
   "outputs": [],
   "source": []
  }
 ],
 "metadata": {
  "kernelspec": {
   "display_name": "Python 3 (ipykernel)",
   "language": "python",
   "name": "python3"
  },
  "language_info": {
   "codemirror_mode": {
    "name": "ipython",
    "version": 3
   },
   "file_extension": ".py",
   "mimetype": "text/x-python",
   "name": "python",
   "nbconvert_exporter": "python",
   "pygments_lexer": "ipython3",
   "version": "3.13.5"
  }
 },
 "nbformat": 4,
 "nbformat_minor": 5
}
